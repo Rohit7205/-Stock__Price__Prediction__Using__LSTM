{
 "cells": [
  {
   "cell_type": "code",
   "execution_count": 1,
   "id": "304c5caa-b215-40a9-8b98-41dc2d3bc702",
   "metadata": {
    "tags": []
   },
   "outputs": [],
   "source": [
    "import numpy as np\n",
    "import pandas as pd\n",
    "from sklearn.preprocessing import MinMaxScaler\n",
    "from tensorflow.keras.models import Sequential\n",
    "from tensorflow.keras.layers import LSTM, Dense\n",
    "import matplotlib.pyplot as plt"
   ]
  },
  {
   "cell_type": "code",
   "execution_count": 2,
   "id": "55c73c26-5d8d-4ea7-a6e2-0942c50adeeb",
   "metadata": {
    "tags": []
   },
   "outputs": [],
   "source": [
    "data = pd.read_csv('NFLX.csv')"
   ]
  },
  {
   "cell_type": "code",
   "execution_count": 3,
   "id": "1ab09bd9-fdcf-4778-b65e-d782f73e6679",
   "metadata": {},
   "outputs": [
    {
     "data": {
      "text/html": [
       "<div>\n",
       "<style scoped>\n",
       "    .dataframe tbody tr th:only-of-type {\n",
       "        vertical-align: middle;\n",
       "    }\n",
       "\n",
       "    .dataframe tbody tr th {\n",
       "        vertical-align: top;\n",
       "    }\n",
       "\n",
       "    .dataframe thead th {\n",
       "        text-align: right;\n",
       "    }\n",
       "</style>\n",
       "<table border=\"1\" class=\"dataframe\">\n",
       "  <thead>\n",
       "    <tr style=\"text-align: right;\">\n",
       "      <th></th>\n",
       "      <th>Date</th>\n",
       "      <th>Open</th>\n",
       "      <th>High</th>\n",
       "      <th>Low</th>\n",
       "      <th>Close</th>\n",
       "      <th>Adj Close</th>\n",
       "      <th>Volume</th>\n",
       "    </tr>\n",
       "  </thead>\n",
       "  <tbody>\n",
       "    <tr>\n",
       "      <th>0</th>\n",
       "      <td>2010-01-04</td>\n",
       "      <td>7.931429</td>\n",
       "      <td>7.961429</td>\n",
       "      <td>7.565714</td>\n",
       "      <td>7.640000</td>\n",
       "      <td>7.640000</td>\n",
       "      <td>17239600</td>\n",
       "    </tr>\n",
       "    <tr>\n",
       "      <th>1</th>\n",
       "      <td>2010-01-05</td>\n",
       "      <td>7.652857</td>\n",
       "      <td>7.657143</td>\n",
       "      <td>7.258571</td>\n",
       "      <td>7.358571</td>\n",
       "      <td>7.358571</td>\n",
       "      <td>23753100</td>\n",
       "    </tr>\n",
       "    <tr>\n",
       "      <th>2</th>\n",
       "      <td>2010-01-06</td>\n",
       "      <td>7.361429</td>\n",
       "      <td>7.672857</td>\n",
       "      <td>7.197143</td>\n",
       "      <td>7.617143</td>\n",
       "      <td>7.617143</td>\n",
       "      <td>23290400</td>\n",
       "    </tr>\n",
       "    <tr>\n",
       "      <th>3</th>\n",
       "      <td>2010-01-07</td>\n",
       "      <td>7.731429</td>\n",
       "      <td>7.757143</td>\n",
       "      <td>7.462857</td>\n",
       "      <td>7.485714</td>\n",
       "      <td>7.485714</td>\n",
       "      <td>9955400</td>\n",
       "    </tr>\n",
       "    <tr>\n",
       "      <th>4</th>\n",
       "      <td>2010-01-08</td>\n",
       "      <td>7.498571</td>\n",
       "      <td>7.742857</td>\n",
       "      <td>7.465714</td>\n",
       "      <td>7.614286</td>\n",
       "      <td>7.614286</td>\n",
       "      <td>8180900</td>\n",
       "    </tr>\n",
       "  </tbody>\n",
       "</table>\n",
       "</div>"
      ],
      "text/plain": [
       "         Date      Open      High       Low     Close  Adj Close    Volume\n",
       "0  2010-01-04  7.931429  7.961429  7.565714  7.640000   7.640000  17239600\n",
       "1  2010-01-05  7.652857  7.657143  7.258571  7.358571   7.358571  23753100\n",
       "2  2010-01-06  7.361429  7.672857  7.197143  7.617143   7.617143  23290400\n",
       "3  2010-01-07  7.731429  7.757143  7.462857  7.485714   7.485714   9955400\n",
       "4  2010-01-08  7.498571  7.742857  7.465714  7.614286   7.614286   8180900"
      ]
     },
     "execution_count": 3,
     "metadata": {},
     "output_type": "execute_result"
    }
   ],
   "source": [
    "data.head()"
   ]
  },
  {
   "cell_type": "code",
   "execution_count": 4,
   "id": "e657d9d5-2200-45d0-b344-a86fba32b532",
   "metadata": {
    "tags": []
   },
   "outputs": [
    {
     "data": {
      "text/plain": [
       "(3119, 7)"
      ]
     },
     "execution_count": 4,
     "metadata": {},
     "output_type": "execute_result"
    }
   ],
   "source": [
    "data.shape"
   ]
  },
  {
   "cell_type": "code",
   "execution_count": 5,
   "id": "20c9e1b8-4749-4c35-a99e-e595c55826d8",
   "metadata": {
    "tags": []
   },
   "outputs": [
    {
     "data": {
      "text/plain": [
       "Date         0\n",
       "Open         0\n",
       "High         0\n",
       "Low          0\n",
       "Close        0\n",
       "Adj Close    0\n",
       "Volume       0\n",
       "dtype: int64"
      ]
     },
     "execution_count": 5,
     "metadata": {},
     "output_type": "execute_result"
    }
   ],
   "source": [
    "data.isnull().sum()"
   ]
  },
  {
   "cell_type": "code",
   "execution_count": 6,
   "id": "8ee60061-67e7-4249-9a16-6f42f7684f36",
   "metadata": {
    "tags": []
   },
   "outputs": [
    {
     "name": "stdout",
     "output_type": "stream",
     "text": [
      "<class 'pandas.core.frame.DataFrame'>\n",
      "RangeIndex: 3119 entries, 0 to 3118\n",
      "Data columns (total 7 columns):\n",
      " #   Column     Non-Null Count  Dtype  \n",
      "---  ------     --------------  -----  \n",
      " 0   Date       3119 non-null   object \n",
      " 1   Open       3119 non-null   float64\n",
      " 2   High       3119 non-null   float64\n",
      " 3   Low        3119 non-null   float64\n",
      " 4   Close      3119 non-null   float64\n",
      " 5   Adj Close  3119 non-null   float64\n",
      " 6   Volume     3119 non-null   int64  \n",
      "dtypes: float64(5), int64(1), object(1)\n",
      "memory usage: 170.7+ KB\n"
     ]
    }
   ],
   "source": [
    "data.info()"
   ]
  },
  {
   "cell_type": "code",
   "execution_count": 7,
   "id": "09465d0a-c200-4057-a047-a97cd9a70786",
   "metadata": {
    "tags": []
   },
   "outputs": [
    {
     "data": {
      "text/plain": [
       "True    3119\n",
       "dtype: int64"
      ]
     },
     "execution_count": 7,
     "metadata": {},
     "output_type": "execute_result"
    }
   ],
   "source": [
    "is_same = data[\"Close\"] == data[\"Adj Close\"]\n",
    "is_same.value_counts()"
   ]
  },
  {
   "cell_type": "code",
   "execution_count": 8,
   "id": "f2d0c4e8-06b0-4712-9835-3961ec2d843c",
   "metadata": {
    "tags": []
   },
   "outputs": [],
   "source": [
    "data.drop('Adj Close',axis=1,inplace=True)"
   ]
  },
  {
   "cell_type": "code",
   "execution_count": 9,
   "id": "b6f0f3bf-1b0d-412f-9244-3ab3a46cf12c",
   "metadata": {
    "tags": []
   },
   "outputs": [],
   "source": [
    "data=data.reset_index()['Close']"
   ]
  },
  {
   "cell_type": "code",
   "execution_count": 10,
   "id": "595e8f32-9cf5-42d6-a687-76603a8f8871",
   "metadata": {
    "tags": []
   },
   "outputs": [
    {
     "data": {
      "text/plain": [
       "0         7.640000\n",
       "1         7.358571\n",
       "2         7.617143\n",
       "3         7.485714\n",
       "4         7.614286\n",
       "           ...    \n",
       "3114    190.559998\n",
       "3115    177.190002\n",
       "3116    183.479996\n",
       "3117    186.350006\n",
       "3118    187.440002\n",
       "Name: Close, Length: 3119, dtype: float64"
      ]
     },
     "execution_count": 10,
     "metadata": {},
     "output_type": "execute_result"
    }
   ],
   "source": [
    "data"
   ]
  },
  {
   "cell_type": "code",
   "execution_count": 11,
   "id": "7fdcb07e-3547-4961-a4cf-b7003a988daa",
   "metadata": {
    "tags": []
   },
   "outputs": [
    {
     "data": {
      "text/plain": [
       "[<matplotlib.lines.Line2D at 0x258b6867ca0>]"
      ]
     },
     "execution_count": 11,
     "metadata": {},
     "output_type": "execute_result"
    },
    {
     "data": {
      "image/png": "[encoded data removed]",
      "text/plain": [
       "<Figure size 640x480 with 1 Axes>"
      ]
     },
     "metadata": {},
     "output_type": "display_data"
    }
   ],
   "source": [
    "plt.plot(data)"
   ]
  },
  {
   "cell_type": "code",
   "execution_count": 12,
   "id": "c616a423-6b0e-4ff1-80dc-74a814a5be83",
   "metadata": {
    "tags": []
   },
   "outputs": [],
   "source": [
    "# Normalize the data\n",
    "scaler = MinMaxScaler(feature_range=(0, 1))\n",
    "data=scaler.fit_transform(np.array(data).reshape(-1,1))"
   ]
  },
  {
   "cell_type": "code",
   "execution_count": 13,
   "id": "eb44cf07-d8c3-4dbb-a839-d1383fd0f0a1",
   "metadata": {
    "tags": []
   },
   "outputs": [
    {
     "name": "stdout",
     "output_type": "stream",
     "text": [
      "[[0.00090763]\n",
      " [0.00049659]\n",
      " [0.00087425]\n",
      " ...\n",
      " [0.25773154]\n",
      " [0.26192335]\n",
      " [0.26351535]]\n"
     ]
    }
   ],
   "source": [
    "print(data)"
   ]
  },
  {
   "cell_type": "code",
   "execution_count": 14,
   "id": "eea6c475-6f14-4550-9927-3b57d7edf96b",
   "metadata": {
    "tags": []
   },
   "outputs": [],
   "source": [
    "# Split the data into training and testing sets\n",
    "training_size = int(len(data)*0.65)\n",
    "test_size = len(data) - training_size\n",
    "train_data, test_data = data[0:training_size,:],data[training_size:len(data),:1]"
   ]
  },
  {
   "cell_type": "code",
   "execution_count": 15,
   "id": "4ca2d18c-479a-4424-9686-f171763e3dc5",
   "metadata": {
    "tags": []
   },
   "outputs": [
    {
     "data": {
      "text/plain": [
       "(2027, 1092)"
      ]
     },
     "execution_count": 15,
     "metadata": {},
     "output_type": "execute_result"
    }
   ],
   "source": [
    "training_size,test_size"
   ]
  },
  {
   "cell_type": "code",
   "execution_count": 16,
   "id": "05728ff4-f987-49ea-a7a9-a37f577233cf",
   "metadata": {
    "tags": []
   },
   "outputs": [
    {
     "data": {
      "text/plain": [
       "array([[0.00090763],\n",
       "       [0.00049659],\n",
       "       [0.00087425],\n",
       "       ...,\n",
       "       [0.31155299],\n",
       "       [0.31174287],\n",
       "       [0.32214201]])"
      ]
     },
     "execution_count": 16,
     "metadata": {},
     "output_type": "execute_result"
    }
   ],
   "source": [
    "train_data"
   ]
  },
  {
   "cell_type": "code",
   "execution_count": 17,
   "id": "8e5c7d12-c461-4c1b-9fa3-acde610453ec",
   "metadata": {
    "tags": []
   },
   "outputs": [],
   "source": [
    "# Create sequences for training\n",
    "import numpy\n",
    "\n",
    "def create_dataset(dataset, time_step=1):\n",
    "    dataX, dataY = [], []\n",
    "    for i in range(len(dataset) - time_step-1):\n",
    "        a = dataset[i:(i+time_step), 0]\n",
    "        dataX.append(a)\n",
    "        dataY.append(dataset[i + time_step, 0])\n",
    "    return numpy.array(dataX), numpy.array(dataY)\n"
   ]
  },
  {
   "cell_type": "code",
   "execution_count": 18,
   "id": "1a92f651-6637-4307-9b56-cde0437edb48",
   "metadata": {
    "tags": []
   },
   "outputs": [],
   "source": [
    "time_step = 100\n",
    "X_train, y_train = create_dataset(train_data, time_step)\n",
    "X_test, ytest = create_dataset(test_data, time_step)"
   ]
  },
  {
   "cell_type": "code",
   "execution_count": 19,
   "id": "648c3576-368b-4c3d-b5e9-777e3f3a4820",
   "metadata": {},
   "outputs": [
    {
     "name": "stdout",
     "output_type": "stream",
     "text": [
      "(1926, 100)\n",
      "(1926,)\n"
     ]
    },
    {
     "data": {
      "text/plain": [
       "(None, None)"
      ]
     },
     "execution_count": 19,
     "metadata": {},
     "output_type": "execute_result"
    }
   ],
   "source": [
    "print(X_train.shape), print(y_train.shape)"
   ]
  },
  {
   "cell_type": "code",
   "execution_count": 20,
   "id": "4dbd57e7-ca7b-471e-ad08-00dde45e9310",
   "metadata": {
    "tags": []
   },
   "outputs": [
    {
     "name": "stdout",
     "output_type": "stream",
     "text": [
      "(991, 100)\n",
      "(991,)\n"
     ]
    },
    {
     "data": {
      "text/plain": [
       "(None, None)"
      ]
     },
     "execution_count": 20,
     "metadata": {},
     "output_type": "execute_result"
    }
   ],
   "source": [
    "print(X_test.shape), print(ytest.shape)"
   ]
  },
  {
   "cell_type": "code",
   "execution_count": 21,
   "id": "48f39fcc-cb11-48e1-a163-1450ee336640",
   "metadata": {
    "tags": []
   },
   "outputs": [],
   "source": [
    "# reshape input to be [samples, time steps, features] which is required for LSTM\n",
    "X_train =X_train.reshape(X_train.shape[0],X_train.shape[1] , 1)\n",
    "X_test = X_test.reshape(X_test.shape[0],X_test.shape[1] , 1)"
   ]
  },
  {
   "cell_type": "code",
   "execution_count": null,
   "id": "bd739a30-28bc-45cb-8396-e527d7889e1d",
   "metadata": {},
   "outputs": [],
   "source": []
  },
  {
   "cell_type": "code",
   "execution_count": null,
   "id": "9f1a2fea-c69f-45e8-822b-733e2f8e6781",
   "metadata": {},
   "outputs": [],
   "source": []
  },
  {
   "cell_type": "code",
   "execution_count": null,
   "id": "38a80c1d-23d7-4b6e-b0ce-675c66f3002e",
   "metadata": {},
   "outputs": [],
   "source": []
  },
  {
   "cell_type": "code",
   "execution_count": 22,
   "id": "ec827a85-965e-48d4-8709-ed6261641c21",
   "metadata": {},
   "outputs": [],
   "source": [
    "# Build the LSTM model\n",
    "model=Sequential()\n",
    "model.add(LSTM(50,return_sequences=True,input_shape=(100,1)))\n",
    "model.add(LSTM(50,return_sequences=True))\n",
    "model.add(LSTM(50))\n",
    "model.add(Dense(1))\n",
    "model.compile(loss='mean_squared_error',optimizer='adam')"
   ]
  },
  {
   "cell_type": "code",
   "execution_count": 23,
   "id": "3593af77-1034-4696-b52e-b26fad652917",
   "metadata": {
    "tags": []
   },
   "outputs": [
    {
     "name": "stdout",
     "output_type": "stream",
     "text": [
      "Model: \"sequential\"\n",
      "_________________________________________________________________\n",
      " Layer (type)                Output Shape              Param #   \n",
      "=================================================================\n",
      " lstm (LSTM)                 (None, 100, 50)           10400     \n",
      "                                                                 \n",
      " lstm_1 (LSTM)               (None, 100, 50)           20200     \n",
      "                                                                 \n",
      " lstm_2 (LSTM)               (None, 50)                20200     \n",
      "                                                                 \n",
      " dense (Dense)               (None, 1)                 51        \n",
      "                                                                 \n",
      "=================================================================\n",
      "Total params: 50,851\n",
      "Trainable params: 50,851\n",
      "Non-trainable params: 0\n",
      "_________________________________________________________________\n"
     ]
    }
   ],
   "source": [
    "model.summary()"
   ]
  },
  {
   "cell_type": "code",
   "execution_count": 24,
   "id": "9c887399-9e0f-4424-9fe1-c4afdf0fb1d6",
   "metadata": {
    "tags": []
   },
   "outputs": [
    {
     "name": "stdout",
     "output_type": "stream",
     "text": [
      "Model: \"sequential\"\n",
      "_________________________________________________________________\n",
      " Layer (type)                Output Shape              Param #   \n",
      "=================================================================\n",
      " lstm (LSTM)                 (None, 100, 50)           10400     \n",
      "                                                                 \n",
      " lstm_1 (LSTM)               (None, 100, 50)           20200     \n",
      "                                                                 \n",
      " lstm_2 (LSTM)               (None, 50)                20200     \n",
      "                                                                 \n",
      " dense (Dense)               (None, 1)                 51        \n",
      "                                                                 \n",
      "=================================================================\n",
      "Total params: 50,851\n",
      "Trainable params: 50,851\n",
      "Non-trainable params: 0\n",
      "_________________________________________________________________\n"
     ]
    }
   ],
   "source": [
    "model.summary()"
   ]
  },
  {
   "cell_type": "code",
   "execution_count": 25,
   "id": "8b2eda6b-a3bc-4967-9b01-5d13cbea0a49",
   "metadata": {
    "tags": []
   },
   "outputs": [
    {
     "name": "stdout",
     "output_type": "stream",
     "text": [
      "Epoch 1/100\n",
      "61/61 [==============================] - 27s 222ms/step - loss: 0.0015\n",
      "Epoch 2/100\n",
      "61/61 [==============================] - 13s 216ms/step - loss: 7.8282e-05\n",
      "Epoch 3/100\n",
      "61/61 [==============================] - 13s 220ms/step - loss: 7.6509e-05\n",
      "Epoch 4/100\n",
      "61/61 [==============================] - 14s 225ms/step - loss: 7.5610e-05\n",
      "Epoch 5/100\n",
      "61/61 [==============================] - 13s 212ms/step - loss: 7.3176e-05\n",
      "Epoch 6/100\n",
      "61/61 [==============================] - 12s 201ms/step - loss: 7.4439e-05\n",
      "Epoch 7/100\n",
      "61/61 [==============================] - 11s 172ms/step - loss: 6.8773e-05\n",
      "Epoch 8/100\n",
      "61/61 [==============================] - 11s 178ms/step - loss: 5.8600e-05\n",
      "Epoch 9/100\n",
      "61/61 [==============================] - 10s 165ms/step - loss: 6.2939e-05\n",
      "Epoch 10/100\n",
      "61/61 [==============================] - 11s 174ms/step - loss: 5.7064e-05\n",
      "Epoch 11/100\n",
      "61/61 [==============================] - 10s 170ms/step - loss: 5.5479e-05\n",
      "Epoch 12/100\n",
      "61/61 [==============================] - 11s 187ms/step - loss: 5.0171e-05\n",
      "Epoch 13/100\n",
      "61/61 [==============================] - 13s 213ms/step - loss: 4.7259e-05\n",
      "Epoch 14/100\n",
      "61/61 [==============================] - 13s 219ms/step - loss: 5.3070e-05\n",
      "Epoch 15/100\n",
      "61/61 [==============================] - 13s 217ms/step - loss: 4.3700e-05\n",
      "Epoch 16/100\n",
      "61/61 [==============================] - 13s 206ms/step - loss: 5.6224e-05\n",
      "Epoch 17/100\n",
      "61/61 [==============================] - 13s 222ms/step - loss: 4.2866e-05\n",
      "Epoch 18/100\n",
      "61/61 [==============================] - 13s 219ms/step - loss: 4.2361e-05\n",
      "Epoch 19/100\n",
      "61/61 [==============================] - 12s 200ms/step - loss: 4.0048e-05\n",
      "Epoch 20/100\n",
      "61/61 [==============================] - 11s 187ms/step - loss: 3.6463e-05\n",
      "Epoch 21/100\n",
      "61/61 [==============================] - 12s 201ms/step - loss: 3.4198e-05\n",
      "Epoch 22/100\n",
      "61/61 [==============================] - 12s 204ms/step - loss: 3.6250e-05\n",
      "Epoch 23/100\n",
      "61/61 [==============================] - 11s 179ms/step - loss: 3.3957e-05\n",
      "Epoch 24/100\n",
      "61/61 [==============================] - 10s 168ms/step - loss: 3.7677e-05\n",
      "Epoch 25/100\n",
      "61/61 [==============================] - 11s 174ms/step - loss: 3.1380e-05\n",
      "Epoch 26/100\n",
      "61/61 [==============================] - 11s 178ms/step - loss: 3.1250e-05\n",
      "Epoch 27/100\n",
      "61/61 [==============================] - 12s 202ms/step - loss: 3.2609e-05\n",
      "Epoch 28/100\n",
      "61/61 [==============================] - 13s 212ms/step - loss: 3.5572e-05\n",
      "Epoch 29/100\n",
      "61/61 [==============================] - 13s 210ms/step - loss: 2.8317e-05\n",
      "Epoch 30/100\n",
      "61/61 [==============================] - 13s 215ms/step - loss: 2.5514e-05\n",
      "Epoch 31/100\n",
      "61/61 [==============================] - 12s 197ms/step - loss: 2.4760e-05\n",
      "Epoch 32/100\n",
      "61/61 [==============================] - 12s 196ms/step - loss: 2.7100e-05\n",
      "Epoch 33/100\n",
      "61/61 [==============================] - 11s 181ms/step - loss: 3.0659e-05\n",
      "Epoch 34/100\n",
      "61/61 [==============================] - 10s 169ms/step - loss: 2.3608e-05\n",
      "Epoch 35/100\n",
      "61/61 [==============================] - 12s 192ms/step - loss: 3.1112e-05\n",
      "Epoch 36/100\n",
      "61/61 [==============================] - 13s 206ms/step - loss: 2.6037e-05\n",
      "Epoch 37/100\n",
      "61/61 [==============================] - 14s 225ms/step - loss: 2.5245e-05\n",
      "Epoch 38/100\n",
      "61/61 [==============================] - 14s 223ms/step - loss: 2.1998e-05\n",
      "Epoch 39/100\n",
      "61/61 [==============================] - 14s 235ms/step - loss: 2.0046e-05\n",
      "Epoch 40/100\n",
      "61/61 [==============================] - 14s 230ms/step - loss: 1.9410e-05\n",
      "Epoch 41/100\n",
      "61/61 [==============================] - 14s 227ms/step - loss: 2.1752e-05\n",
      "Epoch 42/100\n",
      "61/61 [==============================] - 15s 238ms/step - loss: 1.8996e-05\n",
      "Epoch 43/100\n",
      "61/61 [==============================] - 13s 214ms/step - loss: 1.9442e-05\n",
      "Epoch 44/100\n",
      "61/61 [==============================] - 15s 239ms/step - loss: 2.0498e-05\n",
      "Epoch 45/100\n",
      "61/61 [==============================] - 14s 232ms/step - loss: 2.1984e-05\n",
      "Epoch 46/100\n",
      "61/61 [==============================] - 14s 230ms/step - loss: 2.5190e-05\n",
      "Epoch 47/100\n",
      "61/61 [==============================] - 14s 223ms/step - loss: 1.5791e-05\n",
      "Epoch 48/100\n",
      "61/61 [==============================] - 14s 230ms/step - loss: 1.8733e-05\n",
      "Epoch 49/100\n",
      "61/61 [==============================] - 13s 211ms/step - loss: 1.7148e-05\n",
      "Epoch 50/100\n",
      "61/61 [==============================] - 13s 216ms/step - loss: 2.3510e-05\n",
      "Epoch 51/100\n",
      "61/61 [==============================] - 13s 215ms/step - loss: 2.0616e-05\n",
      "Epoch 52/100\n",
      "61/61 [==============================] - 13s 215ms/step - loss: 1.5712e-05\n",
      "Epoch 53/100\n",
      "61/61 [==============================] - 13s 216ms/step - loss: 1.4283e-05\n",
      "Epoch 54/100\n",
      "61/61 [==============================] - 13s 214ms/step - loss: 1.3546e-05\n",
      "Epoch 55/100\n",
      "61/61 [==============================] - 13s 217ms/step - loss: 1.4472e-05\n",
      "Epoch 56/100\n",
      "61/61 [==============================] - 13s 221ms/step - loss: 1.3292e-05\n",
      "Epoch 57/100\n",
      "61/61 [==============================] - 13s 220ms/step - loss: 1.3386e-05\n",
      "Epoch 58/100\n",
      "61/61 [==============================] - 13s 220ms/step - loss: 1.4321e-05\n",
      "Epoch 59/100\n",
      "61/61 [==============================] - 14s 224ms/step - loss: 1.2378e-05\n",
      "Epoch 60/100\n",
      "61/61 [==============================] - 13s 219ms/step - loss: 1.2601e-05\n",
      "Epoch 61/100\n",
      "61/61 [==============================] - 14s 222ms/step - loss: 1.3630e-05\n",
      "Epoch 62/100\n",
      "61/61 [==============================] - 15s 251ms/step - loss: 1.2443e-05\n",
      "Epoch 63/100\n",
      "61/61 [==============================] - 17s 271ms/step - loss: 1.5443e-05\n",
      "Epoch 64/100\n",
      "61/61 [==============================] - 18s 289ms/step - loss: 1.3966e-05\n",
      "Epoch 65/100\n",
      "61/61 [==============================] - 14s 225ms/step - loss: 1.3262e-05\n",
      "Epoch 66/100\n",
      "61/61 [==============================] - 13s 218ms/step - loss: 1.1578e-05\n",
      "Epoch 67/100\n",
      "61/61 [==============================] - 13s 219ms/step - loss: 2.1717e-05\n",
      "Epoch 68/100\n",
      "61/61 [==============================] - 13s 215ms/step - loss: 1.2950e-05\n",
      "Epoch 69/100\n",
      "61/61 [==============================] - 13s 213ms/step - loss: 1.1554e-05\n",
      "Epoch 70/100\n",
      "61/61 [==============================] - 16s 265ms/step - loss: 1.2198e-05\n",
      "Epoch 71/100\n",
      "61/61 [==============================] - 15s 242ms/step - loss: 1.2842e-05\n",
      "Epoch 72/100\n",
      "61/61 [==============================] - 14s 234ms/step - loss: 1.1651e-05\n",
      "Epoch 73/100\n",
      "61/61 [==============================] - 14s 223ms/step - loss: 1.0897e-05\n",
      "Epoch 74/100\n",
      "61/61 [==============================] - 14s 224ms/step - loss: 1.2520e-05\n",
      "Epoch 75/100\n",
      "61/61 [==============================] - 13s 210ms/step - loss: 1.0993e-05\n",
      "Epoch 76/100\n",
      "61/61 [==============================] - 13s 214ms/step - loss: 1.0791e-05\n",
      "Epoch 77/100\n",
      "61/61 [==============================] - 13s 216ms/step - loss: 1.0878e-05\n",
      "Epoch 78/100\n",
      "61/61 [==============================] - 13s 215ms/step - loss: 1.5396e-05\n",
      "Epoch 79/100\n",
      "61/61 [==============================] - 13s 211ms/step - loss: 1.3101e-05\n",
      "Epoch 80/100\n",
      "61/61 [==============================] - 13s 212ms/step - loss: 1.1245e-05\n",
      "Epoch 81/100\n",
      "61/61 [==============================] - 13s 213ms/step - loss: 1.1430e-05\n",
      "Epoch 82/100\n",
      "61/61 [==============================] - 13s 214ms/step - loss: 1.9740e-05\n",
      "Epoch 83/100\n",
      "61/61 [==============================] - 13s 215ms/step - loss: 1.2468e-05\n",
      "Epoch 84/100\n",
      "61/61 [==============================] - 13s 213ms/step - loss: 1.0435e-05\n",
      "Epoch 85/100\n",
      "61/61 [==============================] - 13s 213ms/step - loss: 1.1162e-05\n",
      "Epoch 86/100\n",
      "61/61 [==============================] - 11s 176ms/step - loss: 1.3462e-05\n",
      "Epoch 87/100\n",
      "61/61 [==============================] - 63s 1s/step - loss: 1.1453e-05\n",
      "Epoch 88/100\n",
      "61/61 [==============================] - 11s 177ms/step - loss: 1.4079e-05\n",
      "Epoch 89/100\n",
      "61/61 [==============================] - 13s 212ms/step - loss: 1.7340e-05\n",
      "Epoch 90/100\n",
      "61/61 [==============================] - 13s 215ms/step - loss: 1.3135e-05\n",
      "Epoch 91/100\n",
      "61/61 [==============================] - 13s 210ms/step - loss: 1.3468e-05\n",
      "Epoch 92/100\n",
      "61/61 [==============================] - 13s 218ms/step - loss: 1.1645e-05\n",
      "Epoch 93/100\n",
      "61/61 [==============================] - 13s 210ms/step - loss: 1.0137e-05\n",
      "Epoch 94/100\n",
      "61/61 [==============================] - 13s 209ms/step - loss: 1.0825e-05\n",
      "Epoch 95/100\n",
      "61/61 [==============================] - 13s 213ms/step - loss: 1.4566e-05\n",
      "Epoch 96/100\n",
      "61/61 [==============================] - 13s 213ms/step - loss: 1.3183e-05\n",
      "Epoch 97/100\n",
      "61/61 [==============================] - 13s 215ms/step - loss: 1.1069e-05\n",
      "Epoch 98/100\n",
      "61/61 [==============================] - 13s 212ms/step - loss: 1.3748e-05\n",
      "Epoch 99/100\n",
      "61/61 [==============================] - 13s 210ms/step - loss: 1.1287e-05\n",
      "Epoch 100/100\n",
      "61/61 [==============================] - 13s 212ms/step - loss: 1.2909e-05\n"
     ]
    },
    {
     "data": {
      "text/plain": [
       "<keras.callbacks.History at 0x258b8dfb670>"
      ]
     },
     "execution_count": 25,
     "metadata": {},
     "output_type": "execute_result"
    }
   ],
   "source": [
    "# Train the model\n",
    "model.fit(X_train, y_train, epochs=100, batch_size=32)"
   ]
  },
  {
   "cell_type": "code",
   "execution_count": 26,
   "id": "5681884a-9dc7-477f-85c3-df611a91b39a",
   "metadata": {
    "tags": []
   },
   "outputs": [
    {
     "name": "stdout",
     "output_type": "stream",
     "text": [
      "61/61 [==============================] - 8s 68ms/step\n",
      "31/31 [==============================] - 2s 72ms/step\n"
     ]
    }
   ],
   "source": [
    "# Make predictions\n",
    "train_predict = model.predict(X_train)\n",
    "test_predict = model.predict(X_test)\n"
   ]
  },
  {
   "cell_type": "code",
   "execution_count": 27,
   "id": "53a44ec4-deb7-4369-a183-13d6372db453",
   "metadata": {
    "tags": []
   },
   "outputs": [],
   "source": [
    "# Inverse transform the predictions to the original scale\n",
    "train_predict = scaler.inverse_transform(train_predict)\n",
    "test_predict  = scaler.inverse_transform(test_predict )"
   ]
  },
  {
   "cell_type": "code",
   "execution_count": 28,
   "id": "54c33f71-4908-4d5b-9e43-1fcd1ef78429",
   "metadata": {
    "tags": []
   },
   "outputs": [
    {
     "data": {
      "text/plain": [
       "85.85392578618547"
      ]
     },
     "execution_count": 28,
     "metadata": {},
     "output_type": "execute_result"
    }
   ],
   "source": [
    "# Ca.melculate RMSE performance matrix\n",
    "import math\n",
    "from sklearn.metrics import mean_squared_error\n",
    "math.sqrt(mean_squared_error(y_train,train_predict))"
   ]
  },
  {
   "cell_type": "code",
   "execution_count": 29,
   "id": "bab5008c-db49-4ac6-b55e-a7f27de5d74e",
   "metadata": {
    "tags": []
   },
   "outputs": [
    {
     "data": {
      "text/plain": [
       "420.6062069152125"
      ]
     },
     "execution_count": 29,
     "metadata": {},
     "output_type": "execute_result"
    }
   ],
   "source": [
    "# Test data RMSE\n",
    "math.sqrt(mean_squared_error(ytest,test_predict))"
   ]
  },
  {
   "cell_type": "code",
   "execution_count": 30,
   "id": "91bc9787-b3e2-47fd-8ecc-15817d863c27",
   "metadata": {},
   "outputs": [
    {
     "data": {
      "image/png": "[encoded data removed]",
      "text/plain": [
       "<Figure size 640x480 with 1 Axes>"
      ]
     },
     "metadata": {},
     "output_type": "display_data"
    }
   ],
   "source": [
    "### Plotting \n",
    "# shift train predictions for plotting\n",
    "look_back=100\n",
    "trainPredictPlot = numpy.empty_like(data)\n",
    "trainPredictPlot[:, :] = np.nan\n",
    "trainPredictPlot[look_back:len(train_predict)+look_back, :] = train_predict\n",
    "# shift test predictions for plotting\n",
    "testPredictPlot = numpy.empty_like(data)\n",
    "testPredictPlot[:, :] = numpy.nan\n",
    "testPredictPlot[len(train_predict)+(look_back*2)+1:len(data)-1, :] = test_predict\n",
    "# plot baseline and predictions\n",
    "plt.plot(scaler.inverse_transform(data))\n",
    "plt.plot(trainPredictPlot)\n",
    "plt.plot(testPredictPlot)\n",
    "plt.show()"
   ]
  },
  {
   "cell_type": "code",
   "execution_count": 31,
   "id": "9c920584-2d47-4070-a50b-e4647ca85fb4",
   "metadata": {},
   "outputs": [
    {
     "data": {
      "text/plain": [
       "1092"
      ]
     },
     "execution_count": 31,
     "metadata": {},
     "output_type": "execute_result"
    }
   ],
   "source": [
    "len(test_data)"
   ]
  },
  {
   "cell_type": "code",
   "execution_count": 32,
   "id": "5dcdc696-3c0e-4e6a-a351-40d860da5a89",
   "metadata": {
    "tags": []
   },
   "outputs": [
    {
     "data": {
      "text/plain": [
       "(1, 100)"
      ]
     },
     "execution_count": 32,
     "metadata": {},
     "output_type": "execute_result"
    }
   ],
   "source": [
    "x_input=test_data[992:].reshape(1,-1)\n",
    "x_input.shape"
   ]
  },
  {
   "cell_type": "code",
   "execution_count": 33,
   "id": "6ad49a40-3849-4e2f-b3d1-99ec0b5f72fa",
   "metadata": {
    "tags": []
   },
   "outputs": [],
   "source": [
    "temp_input=list(x_input)\n",
    "temp_input=temp_input[0].tolist()"
   ]
  },
  {
   "cell_type": "code",
   "execution_count": 34,
   "id": "9289e08f-55f9-43dd-8b1f-ff20041f39e3",
   "metadata": {
    "tags": []
   },
   "outputs": [
    {
     "data": {
      "text/plain": [
       "[0.8837398912880883,\n",
       " 0.8696455029974808,\n",
       " 0.8622404810111025,\n",
       " 0.8531558738281866,\n",
       " 0.8186429630653013,\n",
       " 0.7978592099310187,\n",
       " 0.7799966565276475,\n",
       " 0.7782293533436476,\n",
       " 0.7796753768743125,\n",
       " 0.7743880874737417,\n",
       " 0.7480689536759713,\n",
       " 0.7575479383482556,\n",
       " 0.7358002600812475,\n",
       " 0.7431906619161972,\n",
       " 0.7320758634078306,\n",
       " 0.5703194427576458,\n",
       " 0.5552026940057908,\n",
       " 0.5249254251416252,\n",
       " 0.5151104968479399,\n",
       " 0.5545454707310549,\n",
       " 0.5511277335595444,\n",
       " 0.6136103026620954,\n",
       " 0.6574123201585724,\n",
       " 0.6170279945564137,\n",
       " 0.5821499436859079,\n",
       " 0.5888246883781543,\n",
       " 0.5770380026269856,\n",
       " 0.5791265854643202,\n",
       " 0.5927973997793402,\n",
       " 0.5831284904306164,\n",
       " 0.5612786069351855,\n",
       " 0.5689611372144429,\n",
       " 0.5848665533117592,\n",
       " 0.571166545431629,\n",
       " 0.5545016555539615,\n",
       " 0.5612494119095206,\n",
       " 0.5409330917445567,\n",
       " 0.5264443697812183,\n",
       " 0.5594090985227627,\n",
       " 0.5605337094896251,\n",
       " 0.56596697401852,\n",
       " 0.5538735834882527,\n",
       " 0.5448035526401275,\n",
       " 0.5273353314489325,\n",
       " 0.5180754212015601,\n",
       " 0.501322858613623,\n",
       " 0.4889081446133831,\n",
       " 0.5137813877909563,\n",
       " 0.5108310383115722,\n",
       " 0.48680494162461985,\n",
       " 0.4732071827895503,\n",
       " 0.49181463363848166,\n",
       " 0.5119410744041983,\n",
       " 0.5321989592406404,\n",
       " 0.5456360789793199,\n",
       " 0.5368581312983102,\n",
       " 0.5490245758479733,\n",
       " 0.5367120670761563,\n",
       " 0.5384939451343924,\n",
       " 0.5357773355085411,\n",
       " 0.5425835257320675,\n",
       " 0.5620235029201911,\n",
       " 0.5469067541683362,\n",
       " 0.5368581312983102,\n",
       " 0.535222317462228,\n",
       " 0.5615561152280647,\n",
       " 0.5449788118879462,\n",
       " 0.5277442852730917,\n",
       " 0.5186888292992028,\n",
       " 0.509531168096891,\n",
       " 0.49802199063860153,\n",
       " 0.49232583650770134,\n",
       " 0.5015711280641999,\n",
       " 0.4879879879200041,\n",
       " 0.48321194520529065,\n",
       " 0.4989129070291235,\n",
       " 0.3201118391633314,\n",
       " 0.30847121763431656,\n",
       " 0.30452772462766886,\n",
       " 0.2963340133875105,\n",
       " 0.2795230154710515,\n",
       " 0.26512194577021864,\n",
       " 0.28115885121545253,\n",
       " 0.26778016680529493,\n",
       " 0.28107122232182047,\n",
       " 0.28167003217635345,\n",
       " 0.2877167281717644,\n",
       " 0.26480064420856486,\n",
       " 0.2540655592215005,\n",
       " 0.24257100191463954,\n",
       " 0.24923112791601199,\n",
       " 0.23274145346952554,\n",
       " 0.2443382612820017,\n",
       " 0.26380745540410894,\n",
       " 0.26215702287715287,\n",
       " 0.26807227334128386,\n",
       " 0.24854466433841893,\n",
       " 0.257731543935269,\n",
       " 0.26192335020913116,\n",
       " 0.26351534886812]"
      ]
     },
     "execution_count": 34,
     "metadata": {},
     "output_type": "execute_result"
    }
   ],
   "source": [
    "temp_input"
   ]
  },
  {
   "cell_type": "code",
   "execution_count": 35,
   "id": "e6b0ac3d-d190-462d-b6cd-340044ec9ac5",
   "metadata": {
    "tags": []
   },
   "outputs": [
    {
     "name": "stdout",
     "output_type": "stream",
     "text": [
      "[0.2820435]\n",
      "101\n",
      "1 day input [0.8696455  0.86224048 0.85315587 0.81864296 0.79785921 0.77999666\n",
      " 0.77822935 0.77967538 0.77438809 0.74806895 0.75754794 0.73580026\n",
      " 0.74319066 0.73207586 0.57031944 0.55520269 0.52492543 0.5151105\n",
      " 0.55454547 0.55112773 0.6136103  0.65741232 0.61702799 0.58214994\n",
      " 0.58882469 0.577038   0.57912659 0.5927974  0.58312849 0.56127861\n",
      " 0.56896114 0.58486655 0.57116655 0.55450166 0.56124941 0.54093309\n",
      " 0.52644437 0.5594091  0.56053371 0.56596697 0.55387358 0.54480355\n",
      " 0.52733533 0.51807542 0.50132286 0.48890814 0.51378139 0.51083104\n",
      " 0.48680494 0.47320718 0.49181463 0.51194107 0.53219896 0.54563608\n",
      " 0.53685813 0.54902458 0.53671207 0.53849395 0.53577734 0.54258353\n",
      " 0.5620235  0.54690675 0.53685813 0.53522232 0.56155612 0.54497881\n",
      " 0.52774429 0.51868883 0.50953117 0.49802199 0.49232584 0.50157113\n",
      " 0.48798799 0.48321195 0.49891291 0.32011184 0.30847122 0.30452772\n",
      " 0.29633401 0.27952302 0.26512195 0.28115885 0.26778017 0.28107122\n",
      " 0.28167003 0.28771673 0.26480064 0.25406556 0.242571   0.24923113\n",
      " 0.23274145 0.24433826 0.26380746 0.26215702 0.26807227 0.24854466\n",
      " 0.25773154 0.26192335 0.26351535 0.28204349]\n",
      "1 day output [[0.30171588]]\n",
      "2 day input [0.86224048 0.85315587 0.81864296 0.79785921 0.77999666 0.77822935\n",
      " 0.77967538 0.77438809 0.74806895 0.75754794 0.73580026 0.74319066\n",
      " 0.73207586 0.57031944 0.55520269 0.52492543 0.5151105  0.55454547\n",
      " 0.55112773 0.6136103  0.65741232 0.61702799 0.58214994 0.58882469\n",
      " 0.577038   0.57912659 0.5927974  0.58312849 0.56127861 0.56896114\n",
      " 0.58486655 0.57116655 0.55450166 0.56124941 0.54093309 0.52644437\n",
      " 0.5594091  0.56053371 0.56596697 0.55387358 0.54480355 0.52733533\n",
      " 0.51807542 0.50132286 0.48890814 0.51378139 0.51083104 0.48680494\n",
      " 0.47320718 0.49181463 0.51194107 0.53219896 0.54563608 0.53685813\n",
      " 0.54902458 0.53671207 0.53849395 0.53577734 0.54258353 0.5620235\n",
      " 0.54690675 0.53685813 0.53522232 0.56155612 0.54497881 0.52774429\n",
      " 0.51868883 0.50953117 0.49802199 0.49232584 0.50157113 0.48798799\n",
      " 0.48321195 0.49891291 0.32011184 0.30847122 0.30452772 0.29633401\n",
      " 0.27952302 0.26512195 0.28115885 0.26778017 0.28107122 0.28167003\n",
      " 0.28771673 0.26480064 0.25406556 0.242571   0.24923113 0.23274145\n",
      " 0.24433826 0.26380746 0.26215702 0.26807227 0.24854466 0.25773154\n",
      " 0.26192335 0.26351535 0.28204349 0.30171588]\n",
      "2 day output [[0.32050583]]\n",
      "3 day input [0.85315587 0.81864296 0.79785921 0.77999666 0.77822935 0.77967538\n",
      " 0.77438809 0.74806895 0.75754794 0.73580026 0.74319066 0.73207586\n",
      " 0.57031944 0.55520269 0.52492543 0.5151105  0.55454547 0.55112773\n",
      " 0.6136103  0.65741232 0.61702799 0.58214994 0.58882469 0.577038\n",
      " 0.57912659 0.5927974  0.58312849 0.56127861 0.56896114 0.58486655\n",
      " 0.57116655 0.55450166 0.56124941 0.54093309 0.52644437 0.5594091\n",
      " 0.56053371 0.56596697 0.55387358 0.54480355 0.52733533 0.51807542\n",
      " 0.50132286 0.48890814 0.51378139 0.51083104 0.48680494 0.47320718\n",
      " 0.49181463 0.51194107 0.53219896 0.54563608 0.53685813 0.54902458\n",
      " 0.53671207 0.53849395 0.53577734 0.54258353 0.5620235  0.54690675\n",
      " 0.53685813 0.53522232 0.56155612 0.54497881 0.52774429 0.51868883\n",
      " 0.50953117 0.49802199 0.49232584 0.50157113 0.48798799 0.48321195\n",
      " 0.49891291 0.32011184 0.30847122 0.30452772 0.29633401 0.27952302\n",
      " 0.26512195 0.28115885 0.26778017 0.28107122 0.28167003 0.28771673\n",
      " 0.26480064 0.25406556 0.242571   0.24923113 0.23274145 0.24433826\n",
      " 0.26380746 0.26215702 0.26807227 0.24854466 0.25773154 0.26192335\n",
      " 0.26351535 0.28204349 0.30171588 0.32050583]\n",
      "3 day output [[0.3383402]]\n",
      "4 day input [0.81864296 0.79785921 0.77999666 0.77822935 0.77967538 0.77438809\n",
      " 0.74806895 0.75754794 0.73580026 0.74319066 0.73207586 0.57031944\n",
      " 0.55520269 0.52492543 0.5151105  0.55454547 0.55112773 0.6136103\n",
      " 0.65741232 0.61702799 0.58214994 0.58882469 0.577038   0.57912659\n",
      " 0.5927974  0.58312849 0.56127861 0.56896114 0.58486655 0.57116655\n",
      " 0.55450166 0.56124941 0.54093309 0.52644437 0.5594091  0.56053371\n",
      " 0.56596697 0.55387358 0.54480355 0.52733533 0.51807542 0.50132286\n",
      " 0.48890814 0.51378139 0.51083104 0.48680494 0.47320718 0.49181463\n",
      " 0.51194107 0.53219896 0.54563608 0.53685813 0.54902458 0.53671207\n",
      " 0.53849395 0.53577734 0.54258353 0.5620235  0.54690675 0.53685813\n",
      " 0.53522232 0.56155612 0.54497881 0.52774429 0.51868883 0.50953117\n",
      " 0.49802199 0.49232584 0.50157113 0.48798799 0.48321195 0.49891291\n",
      " 0.32011184 0.30847122 0.30452772 0.29633401 0.27952302 0.26512195\n",
      " 0.28115885 0.26778017 0.28107122 0.28167003 0.28771673 0.26480064\n",
      " 0.25406556 0.242571   0.24923113 0.23274145 0.24433826 0.26380746\n",
      " 0.26215702 0.26807227 0.24854466 0.25773154 0.26192335 0.26351535\n",
      " 0.28204349 0.30171588 0.32050583 0.33834019]\n",
      "4 day output [[0.35418245]]\n",
      "5 day input [0.79785921 0.77999666 0.77822935 0.77967538 0.77438809 0.74806895\n",
      " 0.75754794 0.73580026 0.74319066 0.73207586 0.57031944 0.55520269\n",
      " 0.52492543 0.5151105  0.55454547 0.55112773 0.6136103  0.65741232\n",
      " 0.61702799 0.58214994 0.58882469 0.577038   0.57912659 0.5927974\n",
      " 0.58312849 0.56127861 0.56896114 0.58486655 0.57116655 0.55450166\n",
      " 0.56124941 0.54093309 0.52644437 0.5594091  0.56053371 0.56596697\n",
      " 0.55387358 0.54480355 0.52733533 0.51807542 0.50132286 0.48890814\n",
      " 0.51378139 0.51083104 0.48680494 0.47320718 0.49181463 0.51194107\n",
      " 0.53219896 0.54563608 0.53685813 0.54902458 0.53671207 0.53849395\n",
      " 0.53577734 0.54258353 0.5620235  0.54690675 0.53685813 0.53522232\n",
      " 0.56155612 0.54497881 0.52774429 0.51868883 0.50953117 0.49802199\n",
      " 0.49232584 0.50157113 0.48798799 0.48321195 0.49891291 0.32011184\n",
      " 0.30847122 0.30452772 0.29633401 0.27952302 0.26512195 0.28115885\n",
      " 0.26778017 0.28107122 0.28167003 0.28771673 0.26480064 0.25406556\n",
      " 0.242571   0.24923113 0.23274145 0.24433826 0.26380746 0.26215702\n",
      " 0.26807227 0.24854466 0.25773154 0.26192335 0.26351535 0.28204349\n",
      " 0.30171588 0.32050583 0.33834019 0.35418245]\n",
      "5 day output [[0.36795664]]\n",
      "6 day input [0.77999666 0.77822935 0.77967538 0.77438809 0.74806895 0.75754794\n",
      " 0.73580026 0.74319066 0.73207586 0.57031944 0.55520269 0.52492543\n",
      " 0.5151105  0.55454547 0.55112773 0.6136103  0.65741232 0.61702799\n",
      " 0.58214994 0.58882469 0.577038   0.57912659 0.5927974  0.58312849\n",
      " 0.56127861 0.56896114 0.58486655 0.57116655 0.55450166 0.56124941\n",
      " 0.54093309 0.52644437 0.5594091  0.56053371 0.56596697 0.55387358\n",
      " 0.54480355 0.52733533 0.51807542 0.50132286 0.48890814 0.51378139\n",
      " 0.51083104 0.48680494 0.47320718 0.49181463 0.51194107 0.53219896\n",
      " 0.54563608 0.53685813 0.54902458 0.53671207 0.53849395 0.53577734\n",
      " 0.54258353 0.5620235  0.54690675 0.53685813 0.53522232 0.56155612\n",
      " 0.54497881 0.52774429 0.51868883 0.50953117 0.49802199 0.49232584\n",
      " 0.50157113 0.48798799 0.48321195 0.49891291 0.32011184 0.30847122\n",
      " 0.30452772 0.29633401 0.27952302 0.26512195 0.28115885 0.26778017\n",
      " 0.28107122 0.28167003 0.28771673 0.26480064 0.25406556 0.242571\n",
      " 0.24923113 0.23274145 0.24433826 0.26380746 0.26215702 0.26807227\n",
      " 0.24854466 0.25773154 0.26192335 0.26351535 0.28204349 0.30171588\n",
      " 0.32050583 0.33834019 0.35418245 0.36795664]\n",
      "6 day output [[0.37979478]]\n",
      "7 day input [0.77822935 0.77967538 0.77438809 0.74806895 0.75754794 0.73580026\n",
      " 0.74319066 0.73207586 0.57031944 0.55520269 0.52492543 0.5151105\n",
      " 0.55454547 0.55112773 0.6136103  0.65741232 0.61702799 0.58214994\n",
      " 0.58882469 0.577038   0.57912659 0.5927974  0.58312849 0.56127861\n",
      " 0.56896114 0.58486655 0.57116655 0.55450166 0.56124941 0.54093309\n",
      " 0.52644437 0.5594091  0.56053371 0.56596697 0.55387358 0.54480355\n",
      " 0.52733533 0.51807542 0.50132286 0.48890814 0.51378139 0.51083104\n",
      " 0.48680494 0.47320718 0.49181463 0.51194107 0.53219896 0.54563608\n",
      " 0.53685813 0.54902458 0.53671207 0.53849395 0.53577734 0.54258353\n",
      " 0.5620235  0.54690675 0.53685813 0.53522232 0.56155612 0.54497881\n",
      " 0.52774429 0.51868883 0.50953117 0.49802199 0.49232584 0.50157113\n",
      " 0.48798799 0.48321195 0.49891291 0.32011184 0.30847122 0.30452772\n",
      " 0.29633401 0.27952302 0.26512195 0.28115885 0.26778017 0.28107122\n",
      " 0.28167003 0.28771673 0.26480064 0.25406556 0.242571   0.24923113\n",
      " 0.23274145 0.24433826 0.26380746 0.26215702 0.26807227 0.24854466\n",
      " 0.25773154 0.26192335 0.26351535 0.28204349 0.30171588 0.32050583\n",
      " 0.33834019 0.35418245 0.36795664 0.37979478]\n",
      "7 day output [[0.38984954]]\n",
      "8 day input [0.77967538 0.77438809 0.74806895 0.75754794 0.73580026 0.74319066\n",
      " 0.73207586 0.57031944 0.55520269 0.52492543 0.5151105  0.55454547\n",
      " 0.55112773 0.6136103  0.65741232 0.61702799 0.58214994 0.58882469\n",
      " 0.577038   0.57912659 0.5927974  0.58312849 0.56127861 0.56896114\n",
      " 0.58486655 0.57116655 0.55450166 0.56124941 0.54093309 0.52644437\n",
      " 0.5594091  0.56053371 0.56596697 0.55387358 0.54480355 0.52733533\n",
      " 0.51807542 0.50132286 0.48890814 0.51378139 0.51083104 0.48680494\n",
      " 0.47320718 0.49181463 0.51194107 0.53219896 0.54563608 0.53685813\n",
      " 0.54902458 0.53671207 0.53849395 0.53577734 0.54258353 0.5620235\n",
      " 0.54690675 0.53685813 0.53522232 0.56155612 0.54497881 0.52774429\n",
      " 0.51868883 0.50953117 0.49802199 0.49232584 0.50157113 0.48798799\n",
      " 0.48321195 0.49891291 0.32011184 0.30847122 0.30452772 0.29633401\n",
      " 0.27952302 0.26512195 0.28115885 0.26778017 0.28107122 0.28167003\n",
      " 0.28771673 0.26480064 0.25406556 0.242571   0.24923113 0.23274145\n",
      " 0.24433826 0.26380746 0.26215702 0.26807227 0.24854466 0.25773154\n",
      " 0.26192335 0.26351535 0.28204349 0.30171588 0.32050583 0.33834019\n",
      " 0.35418245 0.36795664 0.37979478 0.38984954]\n",
      "8 day output [[0.39818496]]\n",
      "9 day input [0.77438809 0.74806895 0.75754794 0.73580026 0.74319066 0.73207586\n",
      " 0.57031944 0.55520269 0.52492543 0.5151105  0.55454547 0.55112773\n",
      " 0.6136103  0.65741232 0.61702799 0.58214994 0.58882469 0.577038\n",
      " 0.57912659 0.5927974  0.58312849 0.56127861 0.56896114 0.58486655\n",
      " 0.57116655 0.55450166 0.56124941 0.54093309 0.52644437 0.5594091\n",
      " 0.56053371 0.56596697 0.55387358 0.54480355 0.52733533 0.51807542\n",
      " 0.50132286 0.48890814 0.51378139 0.51083104 0.48680494 0.47320718\n",
      " 0.49181463 0.51194107 0.53219896 0.54563608 0.53685813 0.54902458\n",
      " 0.53671207 0.53849395 0.53577734 0.54258353 0.5620235  0.54690675\n",
      " 0.53685813 0.53522232 0.56155612 0.54497881 0.52774429 0.51868883\n",
      " 0.50953117 0.49802199 0.49232584 0.50157113 0.48798799 0.48321195\n",
      " 0.49891291 0.32011184 0.30847122 0.30452772 0.29633401 0.27952302\n",
      " 0.26512195 0.28115885 0.26778017 0.28107122 0.28167003 0.28771673\n",
      " 0.26480064 0.25406556 0.242571   0.24923113 0.23274145 0.24433826\n",
      " 0.26380746 0.26215702 0.26807227 0.24854466 0.25773154 0.26192335\n",
      " 0.26351535 0.28204349 0.30171588 0.32050583 0.33834019 0.35418245\n",
      " 0.36795664 0.37979478 0.38984954 0.39818496]\n",
      "9 day output [[0.4047914]]\n",
      "10 day input [0.74806895 0.75754794 0.73580026 0.74319066 0.73207586 0.57031944\n",
      " 0.55520269 0.52492543 0.5151105  0.55454547 0.55112773 0.6136103\n",
      " 0.65741232 0.61702799 0.58214994 0.58882469 0.577038   0.57912659\n",
      " 0.5927974  0.58312849 0.56127861 0.56896114 0.58486655 0.57116655\n",
      " 0.55450166 0.56124941 0.54093309 0.52644437 0.5594091  0.56053371\n",
      " 0.56596697 0.55387358 0.54480355 0.52733533 0.51807542 0.50132286\n",
      " 0.48890814 0.51378139 0.51083104 0.48680494 0.47320718 0.49181463\n",
      " 0.51194107 0.53219896 0.54563608 0.53685813 0.54902458 0.53671207\n",
      " 0.53849395 0.53577734 0.54258353 0.5620235  0.54690675 0.53685813\n",
      " 0.53522232 0.56155612 0.54497881 0.52774429 0.51868883 0.50953117\n",
      " 0.49802199 0.49232584 0.50157113 0.48798799 0.48321195 0.49891291\n",
      " 0.32011184 0.30847122 0.30452772 0.29633401 0.27952302 0.26512195\n",
      " 0.28115885 0.26778017 0.28107122 0.28167003 0.28771673 0.26480064\n",
      " 0.25406556 0.242571   0.24923113 0.23274145 0.24433826 0.26380746\n",
      " 0.26215702 0.26807227 0.24854466 0.25773154 0.26192335 0.26351535\n",
      " 0.28204349 0.30171588 0.32050583 0.33834019 0.35418245 0.36795664\n",
      " 0.37979478 0.38984954 0.39818496 0.40479141]\n",
      "10 day output [[0.40965006]]\n",
      "11 day input [0.75754794 0.73580026 0.74319066 0.73207586 0.57031944 0.55520269\n",
      " 0.52492543 0.5151105  0.55454547 0.55112773 0.6136103  0.65741232\n",
      " 0.61702799 0.58214994 0.58882469 0.577038   0.57912659 0.5927974\n",
      " 0.58312849 0.56127861 0.56896114 0.58486655 0.57116655 0.55450166\n",
      " 0.56124941 0.54093309 0.52644437 0.5594091  0.56053371 0.56596697\n",
      " 0.55387358 0.54480355 0.52733533 0.51807542 0.50132286 0.48890814\n",
      " 0.51378139 0.51083104 0.48680494 0.47320718 0.49181463 0.51194107\n",
      " 0.53219896 0.54563608 0.53685813 0.54902458 0.53671207 0.53849395\n",
      " 0.53577734 0.54258353 0.5620235  0.54690675 0.53685813 0.53522232\n",
      " 0.56155612 0.54497881 0.52774429 0.51868883 0.50953117 0.49802199\n",
      " 0.49232584 0.50157113 0.48798799 0.48321195 0.49891291 0.32011184\n",
      " 0.30847122 0.30452772 0.29633401 0.27952302 0.26512195 0.28115885\n",
      " 0.26778017 0.28107122 0.28167003 0.28771673 0.26480064 0.25406556\n",
      " 0.242571   0.24923113 0.23274145 0.24433826 0.26380746 0.26215702\n",
      " 0.26807227 0.24854466 0.25773154 0.26192335 0.26351535 0.28204349\n",
      " 0.30171588 0.32050583 0.33834019 0.35418245 0.36795664 0.37979478\n",
      " 0.38984954 0.39818496 0.40479141 0.40965006]\n",
      "11 day output [[0.4127908]]\n",
      "12 day input [0.73580026 0.74319066 0.73207586 0.57031944 0.55520269 0.52492543\n",
      " 0.5151105  0.55454547 0.55112773 0.6136103  0.65741232 0.61702799\n",
      " 0.58214994 0.58882469 0.577038   0.57912659 0.5927974  0.58312849\n",
      " 0.56127861 0.56896114 0.58486655 0.57116655 0.55450166 0.56124941\n",
      " 0.54093309 0.52644437 0.5594091  0.56053371 0.56596697 0.55387358\n",
      " 0.54480355 0.52733533 0.51807542 0.50132286 0.48890814 0.51378139\n",
      " 0.51083104 0.48680494 0.47320718 0.49181463 0.51194107 0.53219896\n",
      " 0.54563608 0.53685813 0.54902458 0.53671207 0.53849395 0.53577734\n",
      " 0.54258353 0.5620235  0.54690675 0.53685813 0.53522232 0.56155612\n",
      " 0.54497881 0.52774429 0.51868883 0.50953117 0.49802199 0.49232584\n",
      " 0.50157113 0.48798799 0.48321195 0.49891291 0.32011184 0.30847122\n",
      " 0.30452772 0.29633401 0.27952302 0.26512195 0.28115885 0.26778017\n",
      " 0.28107122 0.28167003 0.28771673 0.26480064 0.25406556 0.242571\n",
      " 0.24923113 0.23274145 0.24433826 0.26380746 0.26215702 0.26807227\n",
      " 0.24854466 0.25773154 0.26192335 0.26351535 0.28204349 0.30171588\n",
      " 0.32050583 0.33834019 0.35418245 0.36795664 0.37979478 0.38984954\n",
      " 0.39818496 0.40479141 0.40965006 0.41279081]\n",
      "12 day output [[0.4143197]]\n",
      "13 day input [0.74319066 0.73207586 0.57031944 0.55520269 0.52492543 0.5151105\n",
      " 0.55454547 0.55112773 0.6136103  0.65741232 0.61702799 0.58214994\n",
      " 0.58882469 0.577038   0.57912659 0.5927974  0.58312849 0.56127861\n",
      " 0.56896114 0.58486655 0.57116655 0.55450166 0.56124941 0.54093309\n",
      " 0.52644437 0.5594091  0.56053371 0.56596697 0.55387358 0.54480355\n",
      " 0.52733533 0.51807542 0.50132286 0.48890814 0.51378139 0.51083104\n",
      " 0.48680494 0.47320718 0.49181463 0.51194107 0.53219896 0.54563608\n",
      " 0.53685813 0.54902458 0.53671207 0.53849395 0.53577734 0.54258353\n",
      " 0.5620235  0.54690675 0.53685813 0.53522232 0.56155612 0.54497881\n",
      " 0.52774429 0.51868883 0.50953117 0.49802199 0.49232584 0.50157113\n",
      " 0.48798799 0.48321195 0.49891291 0.32011184 0.30847122 0.30452772\n",
      " 0.29633401 0.27952302 0.26512195 0.28115885 0.26778017 0.28107122\n",
      " 0.28167003 0.28771673 0.26480064 0.25406556 0.242571   0.24923113\n",
      " 0.23274145 0.24433826 0.26380746 0.26215702 0.26807227 0.24854466\n",
      " 0.25773154 0.26192335 0.26351535 0.28204349 0.30171588 0.32050583\n",
      " 0.33834019 0.35418245 0.36795664 0.37979478 0.38984954 0.39818496\n",
      " 0.40479141 0.40965006 0.41279081 0.41431969]\n",
      "13 day output [[0.41441634]]\n",
      "14 day input [0.73207586 0.57031944 0.55520269 0.52492543 0.5151105  0.55454547\n",
      " 0.55112773 0.6136103  0.65741232 0.61702799 0.58214994 0.58882469\n",
      " 0.577038   0.57912659 0.5927974  0.58312849 0.56127861 0.56896114\n",
      " 0.58486655 0.57116655 0.55450166 0.56124941 0.54093309 0.52644437\n",
      " 0.5594091  0.56053371 0.56596697 0.55387358 0.54480355 0.52733533\n",
      " 0.51807542 0.50132286 0.48890814 0.51378139 0.51083104 0.48680494\n",
      " 0.47320718 0.49181463 0.51194107 0.53219896 0.54563608 0.53685813\n",
      " 0.54902458 0.53671207 0.53849395 0.53577734 0.54258353 0.5620235\n",
      " 0.54690675 0.53685813 0.53522232 0.56155612 0.54497881 0.52774429\n",
      " 0.51868883 0.50953117 0.49802199 0.49232584 0.50157113 0.48798799\n",
      " 0.48321195 0.49891291 0.32011184 0.30847122 0.30452772 0.29633401\n",
      " 0.27952302 0.26512195 0.28115885 0.26778017 0.28107122 0.28167003\n",
      " 0.28771673 0.26480064 0.25406556 0.242571   0.24923113 0.23274145\n",
      " 0.24433826 0.26380746 0.26215702 0.26807227 0.24854466 0.25773154\n",
      " 0.26192335 0.26351535 0.28204349 0.30171588 0.32050583 0.33834019\n",
      " 0.35418245 0.36795664 0.37979478 0.38984954 0.39818496 0.40479141\n",
      " 0.40965006 0.41279081 0.41431969 0.41441634]\n",
      "14 day output [[0.41331038]]\n",
      "15 day input [0.57031944 0.55520269 0.52492543 0.5151105  0.55454547 0.55112773\n",
      " 0.6136103  0.65741232 0.61702799 0.58214994 0.58882469 0.577038\n",
      " 0.57912659 0.5927974  0.58312849 0.56127861 0.56896114 0.58486655\n",
      " 0.57116655 0.55450166 0.56124941 0.54093309 0.52644437 0.5594091\n",
      " 0.56053371 0.56596697 0.55387358 0.54480355 0.52733533 0.51807542\n",
      " 0.50132286 0.48890814 0.51378139 0.51083104 0.48680494 0.47320718\n",
      " 0.49181463 0.51194107 0.53219896 0.54563608 0.53685813 0.54902458\n",
      " 0.53671207 0.53849395 0.53577734 0.54258353 0.5620235  0.54690675\n",
      " 0.53685813 0.53522232 0.56155612 0.54497881 0.52774429 0.51868883\n",
      " 0.50953117 0.49802199 0.49232584 0.50157113 0.48798799 0.48321195\n",
      " 0.49891291 0.32011184 0.30847122 0.30452772 0.29633401 0.27952302\n",
      " 0.26512195 0.28115885 0.26778017 0.28107122 0.28167003 0.28771673\n",
      " 0.26480064 0.25406556 0.242571   0.24923113 0.23274145 0.24433826\n",
      " 0.26380746 0.26215702 0.26807227 0.24854466 0.25773154 0.26192335\n",
      " 0.26351535 0.28204349 0.30171588 0.32050583 0.33834019 0.35418245\n",
      " 0.36795664 0.37979478 0.38984954 0.39818496 0.40479141 0.40965006\n",
      " 0.41279081 0.41431969 0.41441634 0.41331038]\n",
      "15 day output [[0.41125435]]\n",
      "16 day input [0.55520269 0.52492543 0.5151105  0.55454547 0.55112773 0.6136103\n",
      " 0.65741232 0.61702799 0.58214994 0.58882469 0.577038   0.57912659\n",
      " 0.5927974  0.58312849 0.56127861 0.56896114 0.58486655 0.57116655\n",
      " 0.55450166 0.56124941 0.54093309 0.52644437 0.5594091  0.56053371\n",
      " 0.56596697 0.55387358 0.54480355 0.52733533 0.51807542 0.50132286\n",
      " 0.48890814 0.51378139 0.51083104 0.48680494 0.47320718 0.49181463\n",
      " 0.51194107 0.53219896 0.54563608 0.53685813 0.54902458 0.53671207\n",
      " 0.53849395 0.53577734 0.54258353 0.5620235  0.54690675 0.53685813\n",
      " 0.53522232 0.56155612 0.54497881 0.52774429 0.51868883 0.50953117\n",
      " 0.49802199 0.49232584 0.50157113 0.48798799 0.48321195 0.49891291\n",
      " 0.32011184 0.30847122 0.30452772 0.29633401 0.27952302 0.26512195\n",
      " 0.28115885 0.26778017 0.28107122 0.28167003 0.28771673 0.26480064\n",
      " 0.25406556 0.242571   0.24923113 0.23274145 0.24433826 0.26380746\n",
      " 0.26215702 0.26807227 0.24854466 0.25773154 0.26192335 0.26351535\n",
      " 0.28204349 0.30171588 0.32050583 0.33834019 0.35418245 0.36795664\n",
      " 0.37979478 0.38984954 0.39818496 0.40479141 0.40965006 0.41279081\n",
      " 0.41431969 0.41441634 0.41331038 0.41125435]\n",
      "16 day output [[0.40849948]]\n",
      "17 day input [0.52492543 0.5151105  0.55454547 0.55112773 0.6136103  0.65741232\n",
      " 0.61702799 0.58214994 0.58882469 0.577038   0.57912659 0.5927974\n",
      " 0.58312849 0.56127861 0.56896114 0.58486655 0.57116655 0.55450166\n",
      " 0.56124941 0.54093309 0.52644437 0.5594091  0.56053371 0.56596697\n",
      " 0.55387358 0.54480355 0.52733533 0.51807542 0.50132286 0.48890814\n",
      " 0.51378139 0.51083104 0.48680494 0.47320718 0.49181463 0.51194107\n",
      " 0.53219896 0.54563608 0.53685813 0.54902458 0.53671207 0.53849395\n",
      " 0.53577734 0.54258353 0.5620235  0.54690675 0.53685813 0.53522232\n",
      " 0.56155612 0.54497881 0.52774429 0.51868883 0.50953117 0.49802199\n",
      " 0.49232584 0.50157113 0.48798799 0.48321195 0.49891291 0.32011184\n",
      " 0.30847122 0.30452772 0.29633401 0.27952302 0.26512195 0.28115885\n",
      " 0.26778017 0.28107122 0.28167003 0.28771673 0.26480064 0.25406556\n",
      " 0.242571   0.24923113 0.23274145 0.24433826 0.26380746 0.26215702\n",
      " 0.26807227 0.24854466 0.25773154 0.26192335 0.26351535 0.28204349\n",
      " 0.30171588 0.32050583 0.33834019 0.35418245 0.36795664 0.37979478\n",
      " 0.38984954 0.39818496 0.40479141 0.40965006 0.41279081 0.41431969\n",
      " 0.41441634 0.41331038 0.41125435 0.40849948]\n",
      "17 day output [[0.4052778]]\n",
      "18 day input [0.5151105  0.55454547 0.55112773 0.6136103  0.65741232 0.61702799\n",
      " 0.58214994 0.58882469 0.577038   0.57912659 0.5927974  0.58312849\n",
      " 0.56127861 0.56896114 0.58486655 0.57116655 0.55450166 0.56124941\n",
      " 0.54093309 0.52644437 0.5594091  0.56053371 0.56596697 0.55387358\n",
      " 0.54480355 0.52733533 0.51807542 0.50132286 0.48890814 0.51378139\n",
      " 0.51083104 0.48680494 0.47320718 0.49181463 0.51194107 0.53219896\n",
      " 0.54563608 0.53685813 0.54902458 0.53671207 0.53849395 0.53577734\n",
      " 0.54258353 0.5620235  0.54690675 0.53685813 0.53522232 0.56155612\n",
      " 0.54497881 0.52774429 0.51868883 0.50953117 0.49802199 0.49232584\n",
      " 0.50157113 0.48798799 0.48321195 0.49891291 0.32011184 0.30847122\n",
      " 0.30452772 0.29633401 0.27952302 0.26512195 0.28115885 0.26778017\n",
      " 0.28107122 0.28167003 0.28771673 0.26480064 0.25406556 0.242571\n",
      " 0.24923113 0.23274145 0.24433826 0.26380746 0.26215702 0.26807227\n",
      " 0.24854466 0.25773154 0.26192335 0.26351535 0.28204349 0.30171588\n",
      " 0.32050583 0.33834019 0.35418245 0.36795664 0.37979478 0.38984954\n",
      " 0.39818496 0.40479141 0.40965006 0.41279081 0.41431969 0.41441634\n",
      " 0.41331038 0.41125435 0.40849948 0.40527779]\n",
      "18 day output [[0.40179566]]\n",
      "19 day input [0.55454547 0.55112773 0.6136103  0.65741232 0.61702799 0.58214994\n",
      " 0.58882469 0.577038   0.57912659 0.5927974  0.58312849 0.56127861\n",
      " 0.56896114 0.58486655 0.57116655 0.55450166 0.56124941 0.54093309\n",
      " 0.52644437 0.5594091  0.56053371 0.56596697 0.55387358 0.54480355\n",
      " 0.52733533 0.51807542 0.50132286 0.48890814 0.51378139 0.51083104\n",
      " 0.48680494 0.47320718 0.49181463 0.51194107 0.53219896 0.54563608\n",
      " 0.53685813 0.54902458 0.53671207 0.53849395 0.53577734 0.54258353\n",
      " 0.5620235  0.54690675 0.53685813 0.53522232 0.56155612 0.54497881\n",
      " 0.52774429 0.51868883 0.50953117 0.49802199 0.49232584 0.50157113\n",
      " 0.48798799 0.48321195 0.49891291 0.32011184 0.30847122 0.30452772\n",
      " 0.29633401 0.27952302 0.26512195 0.28115885 0.26778017 0.28107122\n",
      " 0.28167003 0.28771673 0.26480064 0.25406556 0.242571   0.24923113\n",
      " 0.23274145 0.24433826 0.26380746 0.26215702 0.26807227 0.24854466\n",
      " 0.25773154 0.26192335 0.26351535 0.28204349 0.30171588 0.32050583\n",
      " 0.33834019 0.35418245 0.36795664 0.37979478 0.38984954 0.39818496\n",
      " 0.40479141 0.40965006 0.41279081 0.41431969 0.41441634 0.41331038\n",
      " 0.41125435 0.40849948 0.40527779 0.40179566]\n",
      "19 day output [[0.39822897]]\n",
      "20 day input [0.55112773 0.6136103  0.65741232 0.61702799 0.58214994 0.58882469\n",
      " 0.577038   0.57912659 0.5927974  0.58312849 0.56127861 0.56896114\n",
      " 0.58486655 0.57116655 0.55450166 0.56124941 0.54093309 0.52644437\n",
      " 0.5594091  0.56053371 0.56596697 0.55387358 0.54480355 0.52733533\n",
      " 0.51807542 0.50132286 0.48890814 0.51378139 0.51083104 0.48680494\n",
      " 0.47320718 0.49181463 0.51194107 0.53219896 0.54563608 0.53685813\n",
      " 0.54902458 0.53671207 0.53849395 0.53577734 0.54258353 0.5620235\n",
      " 0.54690675 0.53685813 0.53522232 0.56155612 0.54497881 0.52774429\n",
      " 0.51868883 0.50953117 0.49802199 0.49232584 0.50157113 0.48798799\n",
      " 0.48321195 0.49891291 0.32011184 0.30847122 0.30452772 0.29633401\n",
      " 0.27952302 0.26512195 0.28115885 0.26778017 0.28107122 0.28167003\n",
      " 0.28771673 0.26480064 0.25406556 0.242571   0.24923113 0.23274145\n",
      " 0.24433826 0.26380746 0.26215702 0.26807227 0.24854466 0.25773154\n",
      " 0.26192335 0.26351535 0.28204349 0.30171588 0.32050583 0.33834019\n",
      " 0.35418245 0.36795664 0.37979478 0.38984954 0.39818496 0.40479141\n",
      " 0.40965006 0.41279081 0.41431969 0.41441634 0.41331038 0.41125435\n",
      " 0.40849948 0.40527779 0.40179566 0.39822897]\n",
      "20 day output [[0.39472517]]\n",
      "21 day input [0.6136103  0.65741232 0.61702799 0.58214994 0.58882469 0.577038\n",
      " 0.57912659 0.5927974  0.58312849 0.56127861 0.56896114 0.58486655\n",
      " 0.57116655 0.55450166 0.56124941 0.54093309 0.52644437 0.5594091\n",
      " 0.56053371 0.56596697 0.55387358 0.54480355 0.52733533 0.51807542\n",
      " 0.50132286 0.48890814 0.51378139 0.51083104 0.48680494 0.47320718\n",
      " 0.49181463 0.51194107 0.53219896 0.54563608 0.53685813 0.54902458\n",
      " 0.53671207 0.53849395 0.53577734 0.54258353 0.5620235  0.54690675\n",
      " 0.53685813 0.53522232 0.56155612 0.54497881 0.52774429 0.51868883\n",
      " 0.50953117 0.49802199 0.49232584 0.50157113 0.48798799 0.48321195\n",
      " 0.49891291 0.32011184 0.30847122 0.30452772 0.29633401 0.27952302\n",
      " 0.26512195 0.28115885 0.26778017 0.28107122 0.28167003 0.28771673\n",
      " 0.26480064 0.25406556 0.242571   0.24923113 0.23274145 0.24433826\n",
      " 0.26380746 0.26215702 0.26807227 0.24854466 0.25773154 0.26192335\n",
      " 0.26351535 0.28204349 0.30171588 0.32050583 0.33834019 0.35418245\n",
      " 0.36795664 0.37979478 0.38984954 0.39818496 0.40479141 0.40965006\n",
      " 0.41279081 0.41431969 0.41441634 0.41331038 0.41125435 0.40849948\n",
      " 0.40527779 0.40179566 0.39822897 0.39472517]\n",
      "21 day output [[0.39140463]]\n",
      "22 day input [0.65741232 0.61702799 0.58214994 0.58882469 0.577038   0.57912659\n",
      " 0.5927974  0.58312849 0.56127861 0.56896114 0.58486655 0.57116655\n",
      " 0.55450166 0.56124941 0.54093309 0.52644437 0.5594091  0.56053371\n",
      " 0.56596697 0.55387358 0.54480355 0.52733533 0.51807542 0.50132286\n",
      " 0.48890814 0.51378139 0.51083104 0.48680494 0.47320718 0.49181463\n",
      " 0.51194107 0.53219896 0.54563608 0.53685813 0.54902458 0.53671207\n",
      " 0.53849395 0.53577734 0.54258353 0.5620235  0.54690675 0.53685813\n",
      " 0.53522232 0.56155612 0.54497881 0.52774429 0.51868883 0.50953117\n",
      " 0.49802199 0.49232584 0.50157113 0.48798799 0.48321195 0.49891291\n",
      " 0.32011184 0.30847122 0.30452772 0.29633401 0.27952302 0.26512195\n",
      " 0.28115885 0.26778017 0.28107122 0.28167003 0.28771673 0.26480064\n",
      " 0.25406556 0.242571   0.24923113 0.23274145 0.24433826 0.26380746\n",
      " 0.26215702 0.26807227 0.24854466 0.25773154 0.26192335 0.26351535\n",
      " 0.28204349 0.30171588 0.32050583 0.33834019 0.35418245 0.36795664\n",
      " 0.37979478 0.38984954 0.39818496 0.40479141 0.40965006 0.41279081\n",
      " 0.41431969 0.41441634 0.41331038 0.41125435 0.40849948 0.40527779\n",
      " 0.40179566 0.39822897 0.39472517 0.39140463]\n",
      "22 day output [[0.38836256]]\n",
      "23 day input [0.61702799 0.58214994 0.58882469 0.577038   0.57912659 0.5927974\n",
      " 0.58312849 0.56127861 0.56896114 0.58486655 0.57116655 0.55450166\n",
      " 0.56124941 0.54093309 0.52644437 0.5594091  0.56053371 0.56596697\n",
      " 0.55387358 0.54480355 0.52733533 0.51807542 0.50132286 0.48890814\n",
      " 0.51378139 0.51083104 0.48680494 0.47320718 0.49181463 0.51194107\n",
      " 0.53219896 0.54563608 0.53685813 0.54902458 0.53671207 0.53849395\n",
      " 0.53577734 0.54258353 0.5620235  0.54690675 0.53685813 0.53522232\n",
      " 0.56155612 0.54497881 0.52774429 0.51868883 0.50953117 0.49802199\n",
      " 0.49232584 0.50157113 0.48798799 0.48321195 0.49891291 0.32011184\n",
      " 0.30847122 0.30452772 0.29633401 0.27952302 0.26512195 0.28115885\n",
      " 0.26778017 0.28107122 0.28167003 0.28771673 0.26480064 0.25406556\n",
      " 0.242571   0.24923113 0.23274145 0.24433826 0.26380746 0.26215702\n",
      " 0.26807227 0.24854466 0.25773154 0.26192335 0.26351535 0.28204349\n",
      " 0.30171588 0.32050583 0.33834019 0.35418245 0.36795664 0.37979478\n",
      " 0.38984954 0.39818496 0.40479141 0.40965006 0.41279081 0.41431969\n",
      " 0.41441634 0.41331038 0.41125435 0.40849948 0.40527779 0.40179566\n",
      " 0.39822897 0.39472517 0.39140463 0.38836256]\n",
      "23 day output [[0.38567218]]\n",
      "24 day input [0.58214994 0.58882469 0.577038   0.57912659 0.5927974  0.58312849\n",
      " 0.56127861 0.56896114 0.58486655 0.57116655 0.55450166 0.56124941\n",
      " 0.54093309 0.52644437 0.5594091  0.56053371 0.56596697 0.55387358\n",
      " 0.54480355 0.52733533 0.51807542 0.50132286 0.48890814 0.51378139\n",
      " 0.51083104 0.48680494 0.47320718 0.49181463 0.51194107 0.53219896\n",
      " 0.54563608 0.53685813 0.54902458 0.53671207 0.53849395 0.53577734\n",
      " 0.54258353 0.5620235  0.54690675 0.53685813 0.53522232 0.56155612\n",
      " 0.54497881 0.52774429 0.51868883 0.50953117 0.49802199 0.49232584\n",
      " 0.50157113 0.48798799 0.48321195 0.49891291 0.32011184 0.30847122\n",
      " 0.30452772 0.29633401 0.27952302 0.26512195 0.28115885 0.26778017\n",
      " 0.28107122 0.28167003 0.28771673 0.26480064 0.25406556 0.242571\n",
      " 0.24923113 0.23274145 0.24433826 0.26380746 0.26215702 0.26807227\n",
      " 0.24854466 0.25773154 0.26192335 0.26351535 0.28204349 0.30171588\n",
      " 0.32050583 0.33834019 0.35418245 0.36795664 0.37979478 0.38984954\n",
      " 0.39818496 0.40479141 0.40965006 0.41279081 0.41431969 0.41441634\n",
      " 0.41331038 0.41125435 0.40849948 0.40527779 0.40179566 0.39822897\n",
      " 0.39472517 0.39140463 0.38836256 0.38567218]\n",
      "24 day output [[0.38338608]]\n",
      "25 day input [0.58882469 0.577038   0.57912659 0.5927974  0.58312849 0.56127861\n",
      " 0.56896114 0.58486655 0.57116655 0.55450166 0.56124941 0.54093309\n",
      " 0.52644437 0.5594091  0.56053371 0.56596697 0.55387358 0.54480355\n",
      " 0.52733533 0.51807542 0.50132286 0.48890814 0.51378139 0.51083104\n",
      " 0.48680494 0.47320718 0.49181463 0.51194107 0.53219896 0.54563608\n",
      " 0.53685813 0.54902458 0.53671207 0.53849395 0.53577734 0.54258353\n",
      " 0.5620235  0.54690675 0.53685813 0.53522232 0.56155612 0.54497881\n",
      " 0.52774429 0.51868883 0.50953117 0.49802199 0.49232584 0.50157113\n",
      " 0.48798799 0.48321195 0.49891291 0.32011184 0.30847122 0.30452772\n",
      " 0.29633401 0.27952302 0.26512195 0.28115885 0.26778017 0.28107122\n",
      " 0.28167003 0.28771673 0.26480064 0.25406556 0.242571   0.24923113\n",
      " 0.23274145 0.24433826 0.26380746 0.26215702 0.26807227 0.24854466\n",
      " 0.25773154 0.26192335 0.26351535 0.28204349 0.30171588 0.32050583\n",
      " 0.33834019 0.35418245 0.36795664 0.37979478 0.38984954 0.39818496\n",
      " 0.40479141 0.40965006 0.41279081 0.41431969 0.41441634 0.41331038\n",
      " 0.41125435 0.40849948 0.40527779 0.40179566 0.39822897 0.39472517\n",
      " 0.39140463 0.38836256 0.38567218 0.38338608]\n",
      "25 day output [[0.38153836]]\n",
      "26 day input [0.577038   0.57912659 0.5927974  0.58312849 0.56127861 0.56896114\n",
      " 0.58486655 0.57116655 0.55450166 0.56124941 0.54093309 0.52644437\n",
      " 0.5594091  0.56053371 0.56596697 0.55387358 0.54480355 0.52733533\n",
      " 0.51807542 0.50132286 0.48890814 0.51378139 0.51083104 0.48680494\n",
      " 0.47320718 0.49181463 0.51194107 0.53219896 0.54563608 0.53685813\n",
      " 0.54902458 0.53671207 0.53849395 0.53577734 0.54258353 0.5620235\n",
      " 0.54690675 0.53685813 0.53522232 0.56155612 0.54497881 0.52774429\n",
      " 0.51868883 0.50953117 0.49802199 0.49232584 0.50157113 0.48798799\n",
      " 0.48321195 0.49891291 0.32011184 0.30847122 0.30452772 0.29633401\n",
      " 0.27952302 0.26512195 0.28115885 0.26778017 0.28107122 0.28167003\n",
      " 0.28771673 0.26480064 0.25406556 0.242571   0.24923113 0.23274145\n",
      " 0.24433826 0.26380746 0.26215702 0.26807227 0.24854466 0.25773154\n",
      " 0.26192335 0.26351535 0.28204349 0.30171588 0.32050583 0.33834019\n",
      " 0.35418245 0.36795664 0.37979478 0.38984954 0.39818496 0.40479141\n",
      " 0.40965006 0.41279081 0.41431969 0.41441634 0.41331038 0.41125435\n",
      " 0.40849948 0.40527779 0.40179566 0.39822897 0.39472517 0.39140463\n",
      " 0.38836256 0.38567218 0.38338608 0.38153836]\n",
      "26 day output [[0.380146]]\n",
      "27 day input [0.57912659 0.5927974  0.58312849 0.56127861 0.56896114 0.58486655\n",
      " 0.57116655 0.55450166 0.56124941 0.54093309 0.52644437 0.5594091\n",
      " 0.56053371 0.56596697 0.55387358 0.54480355 0.52733533 0.51807542\n",
      " 0.50132286 0.48890814 0.51378139 0.51083104 0.48680494 0.47320718\n",
      " 0.49181463 0.51194107 0.53219896 0.54563608 0.53685813 0.54902458\n",
      " 0.53671207 0.53849395 0.53577734 0.54258353 0.5620235  0.54690675\n",
      " 0.53685813 0.53522232 0.56155612 0.54497881 0.52774429 0.51868883\n",
      " 0.50953117 0.49802199 0.49232584 0.50157113 0.48798799 0.48321195\n",
      " 0.49891291 0.32011184 0.30847122 0.30452772 0.29633401 0.27952302\n",
      " 0.26512195 0.28115885 0.26778017 0.28107122 0.28167003 0.28771673\n",
      " 0.26480064 0.25406556 0.242571   0.24923113 0.23274145 0.24433826\n",
      " 0.26380746 0.26215702 0.26807227 0.24854466 0.25773154 0.26192335\n",
      " 0.26351535 0.28204349 0.30171588 0.32050583 0.33834019 0.35418245\n",
      " 0.36795664 0.37979478 0.38984954 0.39818496 0.40479141 0.40965006\n",
      " 0.41279081 0.41431969 0.41441634 0.41331038 0.41125435 0.40849948\n",
      " 0.40527779 0.40179566 0.39822897 0.39472517 0.39140463 0.38836256\n",
      " 0.38567218 0.38338608 0.38153836 0.380146  ]\n",
      "27 day output [[0.37921113]]\n",
      "28 day input [0.5927974  0.58312849 0.56127861 0.56896114 0.58486655 0.57116655\n",
      " 0.55450166 0.56124941 0.54093309 0.52644437 0.5594091  0.56053371\n",
      " 0.56596697 0.55387358 0.54480355 0.52733533 0.51807542 0.50132286\n",
      " 0.48890814 0.51378139 0.51083104 0.48680494 0.47320718 0.49181463\n",
      " 0.51194107 0.53219896 0.54563608 0.53685813 0.54902458 0.53671207\n",
      " 0.53849395 0.53577734 0.54258353 0.5620235  0.54690675 0.53685813\n",
      " 0.53522232 0.56155612 0.54497881 0.52774429 0.51868883 0.50953117\n",
      " 0.49802199 0.49232584 0.50157113 0.48798799 0.48321195 0.49891291\n",
      " 0.32011184 0.30847122 0.30452772 0.29633401 0.27952302 0.26512195\n",
      " 0.28115885 0.26778017 0.28107122 0.28167003 0.28771673 0.26480064\n",
      " 0.25406556 0.242571   0.24923113 0.23274145 0.24433826 0.26380746\n",
      " 0.26215702 0.26807227 0.24854466 0.25773154 0.26192335 0.26351535\n",
      " 0.28204349 0.30171588 0.32050583 0.33834019 0.35418245 0.36795664\n",
      " 0.37979478 0.38984954 0.39818496 0.40479141 0.40965006 0.41279081\n",
      " 0.41431969 0.41441634 0.41331038 0.41125435 0.40849948 0.40527779\n",
      " 0.40179566 0.39822897 0.39472517 0.39140463 0.38836256 0.38567218\n",
      " 0.38338608 0.38153836 0.380146   0.37921113]\n",
      "28 day output [[0.37872398]]\n",
      "29 day input [0.58312849 0.56127861 0.56896114 0.58486655 0.57116655 0.55450166\n",
      " 0.56124941 0.54093309 0.52644437 0.5594091  0.56053371 0.56596697\n",
      " 0.55387358 0.54480355 0.52733533 0.51807542 0.50132286 0.48890814\n",
      " 0.51378139 0.51083104 0.48680494 0.47320718 0.49181463 0.51194107\n",
      " 0.53219896 0.54563608 0.53685813 0.54902458 0.53671207 0.53849395\n",
      " 0.53577734 0.54258353 0.5620235  0.54690675 0.53685813 0.53522232\n",
      " 0.56155612 0.54497881 0.52774429 0.51868883 0.50953117 0.49802199\n",
      " 0.49232584 0.50157113 0.48798799 0.48321195 0.49891291 0.32011184\n",
      " 0.30847122 0.30452772 0.29633401 0.27952302 0.26512195 0.28115885\n",
      " 0.26778017 0.28107122 0.28167003 0.28771673 0.26480064 0.25406556\n",
      " 0.242571   0.24923113 0.23274145 0.24433826 0.26380746 0.26215702\n",
      " 0.26807227 0.24854466 0.25773154 0.26192335 0.26351535 0.28204349\n",
      " 0.30171588 0.32050583 0.33834019 0.35418245 0.36795664 0.37979478\n",
      " 0.38984954 0.39818496 0.40479141 0.40965006 0.41279081 0.41431969\n",
      " 0.41441634 0.41331038 0.41125435 0.40849948 0.40527779 0.40179566\n",
      " 0.39822897 0.39472517 0.39140463 0.38836256 0.38567218 0.38338608\n",
      " 0.38153836 0.380146   0.37921113 0.37872398]\n",
      "29 day output [[0.37866402]]\n",
      "[[0.2820434868335724], [0.3017158806324005], [0.320505827665329], [0.3383401930332184], [0.3541824519634247], [0.36795663833618164], [0.37979477643966675], [0.38984954357147217], [0.39818495512008667], [0.4047914147377014], [0.409650057554245], [0.41279080510139465], [0.4143196940422058], [0.4144163429737091], [0.41331037878990173], [0.411254346370697], [0.40849947929382324], [0.4052777886390686], [0.4017956554889679], [0.3982289731502533], [0.39472517371177673], [0.3914046287536621], [0.3883625566959381], [0.3856721818447113], [0.3833860754966736], [0.38153836131095886], [0.38014599680900574], [0.3792111277580261], [0.37872397899627686], [0.3786640167236328]]\n"
     ]
    }
   ],
   "source": [
    "\n",
    "\n",
    "# demonstrate prediction for next 10 days\n",
    "from numpy import array\n",
    "\n",
    "lst_output=[]\n",
    "n_steps=100\n",
    "i=0\n",
    "while(i<30):\n",
    "    \n",
    "    if(len(temp_input)>100):\n",
    "        #print(temp_input)\n",
    "        x_input=np.array(temp_input[1:])\n",
    "        print(\"{} day input {}\".format(i,x_input))\n",
    "        x_input=x_input.reshape(1,-1)\n",
    "        x_input = x_input.reshape((1, n_steps, 1))\n",
    "        #print(x_input)\n",
    "        yhat = model.predict(x_input, verbose=0)\n",
    "        print(\"{} day output {}\".format(i,yhat))\n",
    "        temp_input.extend(yhat[0].tolist())\n",
    "        temp_input=temp_input[1:]\n",
    "        #print(temp_input)\n",
    "        lst_output.extend(yhat.tolist())\n",
    "        i=i+1\n",
    "    else:\n",
    "        x_input = x_input.reshape((1, n_steps,1))\n",
    "        yhat = model.predict(x_input, verbose=0)\n",
    "        print(yhat[0])\n",
    "        temp_input.extend(yhat[0].tolist())\n",
    "        print(len(temp_input))\n",
    "        lst_output.extend(yhat.tolist())\n",
    "        i=i+1\n",
    "    \n",
    "\n",
    "print(lst_output)"
   ]
  },
  {
   "cell_type": "code",
   "execution_count": 36,
   "id": "86be77c6-19ef-4490-9bdd-13aaed9f0373",
   "metadata": {
    "tags": []
   },
   "outputs": [],
   "source": [
    "day_new=np.arange(1,101)\n",
    "day_pred=np.arange(101,131)"
   ]
  },
  {
   "cell_type": "code",
   "execution_count": 37,
   "id": "555e607b-4957-4af4-843d-ee0c225aa94a",
   "metadata": {
    "tags": []
   },
   "outputs": [
    {
     "data": {
      "text/plain": [
       "3119"
      ]
     },
     "execution_count": 37,
     "metadata": {},
     "output_type": "execute_result"
    }
   ],
   "source": [
    "len(data)"
   ]
  },
  {
   "cell_type": "code",
   "execution_count": 38,
   "id": "ba571c98-6bdd-4c2d-be7c-17a98821e46c",
   "metadata": {
    "tags": []
   },
   "outputs": [
    {
     "data": {
      "text/plain": [
       "[<matplotlib.lines.Line2D at 0x258b8d29a20>]"
      ]
     },
     "execution_count": 38,
     "metadata": {},
     "output_type": "execute_result"
    },
    {
     "data": {
      "image/png": "[encoded data removed]",
      "text/plain": [
       "<Figure size 640x480 with 1 Axes>"
      ]
     },
     "metadata": {},
     "output_type": "display_data"
    }
   ],
   "source": [
    "plt.plot(day_new,scaler.inverse_transform(data[3019:]))\n",
    "plt.plot(day_pred,scaler.inverse_transform(lst_output))"
   ]
  },
  {
   "cell_type": "code",
   "execution_count": 39,
   "id": "498f8feb-3797-41a9-88a3-257fd02cb9a5",
   "metadata": {
    "tags": []
   },
   "outputs": [
    {
     "data": {
      "text/plain": [
       "[<matplotlib.lines.Line2D at 0x258b8dc9600>]"
      ]
     },
     "execution_count": 39,
     "metadata": {},
     "output_type": "execute_result"
    },
    {
     "data": {
      "image/png": "[encoded data removed]",
      "text/plain": [
       "<Figure size 640x480 with 1 Axes>"
      ]
     },
     "metadata": {},
     "output_type": "display_data"
    }
   ],
   "source": [
    "df3=data.tolist()\n",
    "df3.extend(lst_output)\n",
    "plt.plot(df3[1200:])"
   ]
  },
  {
   "cell_type": "code",
   "execution_count": 40,
   "id": "bea97b15-6884-4a63-a1ea-d76d45ce2aa8",
   "metadata": {
    "tags": []
   },
   "outputs": [],
   "source": [
    "\n",
    "\n",
    "df3=scaler.inverse_transform(df3).tolist()\n",
    "\n"
   ]
  },
  {
   "cell_type": "code",
   "execution_count": 41,
   "id": "86b44fdc-ead4-493d-a998-ea98f40e297d",
   "metadata": {
    "tags": []
   },
   "outputs": [
    {
     "data": {
      "text/plain": [
       "[<matplotlib.lines.Line2D at 0x258bd904a30>]"
      ]
     },
     "execution_count": 41,
     "metadata": {},
     "output_type": "execute_result"
    },
    {
     "data": {
      "image/png": "[encoded data removed]",
      "text/plain": [
       "<Figure size 640x480 with 1 Axes>"
      ]
     },
     "metadata": {},
     "output_type": "display_data"
    }
   ],
   "source": [
    "plt.plot(df3)"
   ]
  },
  {
   "cell_type": "code",
   "execution_count": null,
   "id": "941aa6f2-99d8-4d0b-b183-7771629981c9",
   "metadata": {},
   "outputs": [],
   "source": []
  },
  {
   "cell_type": "code",
   "execution_count": null,
   "id": "c0916435-9221-4aed-965c-49d5c15b78d6",
   "metadata": {},
   "outputs": [],
   "source": []
  },
  {
   "cell_type": "code",
   "execution_count": null,
   "id": "1b8add24-74a3-4153-b3fb-57138083a4a9",
   "metadata": {},
   "outputs": [],
   "source": []
  },
  {
   "cell_type": "code",
   "execution_count": null,
   "id": "41fec650-d9c4-45ec-a2c6-f45b1dd4685c",
   "metadata": {},
   "outputs": [],
   "source": []
  },
  {
   "cell_type": "code",
   "execution_count": null,
   "id": "f3d5e1ae-723d-4c04-9200-6cfc0ae7cd4a",
   "metadata": {},
   "outputs": [],
   "source": []
  },
  {
   "cell_type": "code",
   "execution_count": null,
   "id": "0b41f3da-530b-4ac7-be60-7f159f8863c9",
   "metadata": {},
   "outputs": [],
   "source": []
  },
  {
   "cell_type": "code",
   "execution_count": null,
   "id": "02a42e24-b7d4-450f-8e35-35cb3e2b2d79",
   "metadata": {},
   "outputs": [],
   "source": []
  },
  {
   "cell_type": "code",
   "execution_count": null,
   "id": "03ad7feb-f1ed-44d1-95d1-71860659e22b",
   "metadata": {},
   "outputs": [],
   "source": []
  },
  {
   "cell_type": "code",
   "execution_count": null,
   "id": "4ef36da8-2ecd-48cf-bb74-34fbb3d3cdf9",
   "metadata": {},
   "outputs": [],
   "source": []
  },
  {
   "cell_type": "code",
   "execution_count": null,
   "id": "712f549d-bfb0-4f86-96e3-4aee2640ec99",
   "metadata": {},
   "outputs": [],
   "source": []
  },
  {
   "cell_type": "code",
   "execution_count": null,
   "id": "8ccd0ab4-7043-4629-aa8e-c0f8bff3cedb",
   "metadata": {},
   "outputs": [],
   "source": []
  },
  {
   "cell_type": "code",
   "execution_count": null,
   "id": "53e3a706-6314-4e19-a118-a978746a800e",
   "metadata": {},
   "outputs": [],
   "source": []
  },
  {
   "cell_type": "code",
   "execution_count": null,
   "id": "dcffc879-7385-4a9d-ac2a-dcaf69e931ff",
   "metadata": {},
   "outputs": [],
   "source": []
  },
  {
   "cell_type": "code",
   "execution_count": null,
   "id": "8789e8a8-4836-4871-b785-a94e71dad3e0",
   "metadata": {},
   "outputs": [],
   "source": []
  },
  {
   "cell_type": "code",
   "execution_count": null,
   "id": "98879337-6c2d-48b5-8724-8926bc45bca4",
   "metadata": {},
   "outputs": [],
   "source": []
  },
  {
   "cell_type": "code",
   "execution_count": null,
   "id": "3035ffad-9fd5-4c9d-9740-c7184bfded28",
   "metadata": {},
   "outputs": [],
   "source": []
  },
  {
   "cell_type": "code",
   "execution_count": null,
   "id": "9ff48fd6-c192-4c99-90a4-68f683a50c03",
   "metadata": {},
   "outputs": [],
   "source": []
  },
  {
   "cell_type": "code",
   "execution_count": null,
   "id": "3d44d603-3dbc-4059-a572-ee28e3c79c37",
   "metadata": {},
   "outputs": [],
   "source": []
  },
  {
   "cell_type": "code",
   "execution_count": null,
   "id": "92be8a78-f35a-40dd-9e6b-073beae1fbb3",
   "metadata": {},
   "outputs": [],
   "source": []
  },
  {
   "cell_type": "code",
   "execution_count": null,
   "id": "c6c83c1a-d422-46c7-8672-63e67e8632e8",
   "metadata": {},
   "outputs": [],
   "source": []
  },
  {
   "cell_type": "code",
   "execution_count": null,
   "id": "619efa7a-5473-4b14-b519-8f2ff9f2b37e",
   "metadata": {},
   "outputs": [],
   "source": []
  },
  {
   "cell_type": "code",
   "execution_count": null,
   "id": "628ade58-7360-4a45-96be-87b3ace1a7af",
   "metadata": {},
   "outputs": [],
   "source": []
  },
  {
   "cell_type": "code",
   "execution_count": null,
   "id": "b32171ca-0bef-4bc7-bfcd-cbdb57281bea",
   "metadata": {},
   "outputs": [],
   "source": []
  },
  {
   "cell_type": "code",
   "execution_count": null,
   "id": "d470af05-a582-4611-a523-a6ec5cbbf4ce",
   "metadata": {},
   "outputs": [],
   "source": []
  },
  {
   "cell_type": "code",
   "execution_count": null,
   "id": "6893b902-5285-4ba6-b3b6-3ff6d7ebc863",
   "metadata": {},
   "outputs": [],
   "source": []
  },
  {
   "cell_type": "code",
   "execution_count": null,
   "id": "0dc34b67-2efd-4b13-8cc5-535fc05c53de",
   "metadata": {},
   "outputs": [],
   "source": []
  },
  {
   "cell_type": "code",
   "execution_count": null,
   "id": "52afc2d7-6073-4cb4-905e-a44b20ed212c",
   "metadata": {},
   "outputs": [],
   "source": []
  },
  {
   "cell_type": "code",
   "execution_count": null,
   "id": "211699af-be19-4262-955d-104fcd583c31",
   "metadata": {},
   "outputs": [],
   "source": []
  },
  {
   "cell_type": "code",
   "execution_count": null,
   "id": "adce6770-7f42-4ab3-91c2-98006216b1db",
   "metadata": {},
   "outputs": [],
   "source": []
  },
  {
   "cell_type": "code",
   "execution_count": null,
   "id": "33c673e7-990a-41b2-9b54-0f65c0b1a5b7",
   "metadata": {},
   "outputs": [],
   "source": []
  },
  {
   "cell_type": "code",
   "execution_count": null,
   "id": "637ff666-56ce-4b5c-ad41-f960c2c67a59",
   "metadata": {},
   "outputs": [],
   "source": []
  },
  {
   "cell_type": "code",
   "execution_count": null,
   "id": "cfecd1cd-6d1d-4c6e-b146-d06a26269c46",
   "metadata": {},
   "outputs": [],
   "source": []
  },
  {
   "cell_type": "code",
   "execution_count": null,
   "id": "34c6e6a8-7796-4915-a54c-aee6e1c057e1",
   "metadata": {},
   "outputs": [],
   "source": []
  },
  {
   "cell_type": "code",
   "execution_count": null,
   "id": "79ceb31d-825a-4079-964d-188387abb1cf",
   "metadata": {},
   "outputs": [],
   "source": []
  },
  {
   "cell_type": "code",
   "execution_count": null,
   "id": "6060681a-70d2-4e1e-9bd6-c3483c4aa7e8",
   "metadata": {},
   "outputs": [],
   "source": []
  },
  {
   "cell_type": "code",
   "execution_count": null,
   "id": "3b697790-8076-4832-bf6e-434131162a43",
   "metadata": {},
   "outputs": [],
   "source": []
  },
  {
   "cell_type": "code",
   "execution_count": null,
   "id": "90d23fb6-33ba-46b2-9c11-9b77815ef4af",
   "metadata": {},
   "outputs": [],
   "source": []
  }
 ],
 "metadata": {
  "kernelspec": {
   "display_name": "Python 3 (ipykernel)",
   "language": "python",
   "name": "python3"
  },
  "language_info": {
   "codemirror_mode": {
    "name": "ipython",
    "version": 3
   },
   "file_extension": ".py",
   "mimetype": "text/x-python",
   "name": "python",
   "nbconvert_exporter": "python",
   "pygments_lexer": "ipython3",
   "version": "3.10.4"
  }
 },
 "nbformat": 4,
 "nbformat_minor": 5
}
